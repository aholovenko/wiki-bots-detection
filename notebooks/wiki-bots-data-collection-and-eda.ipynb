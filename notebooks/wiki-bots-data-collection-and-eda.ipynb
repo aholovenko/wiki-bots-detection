{
 "cells": [
  {
   "cell_type": "markdown",
   "id": "2984c23b",
   "metadata": {},
   "source": [
    "# Set-up"
   ]
  },
  {
   "cell_type": "code",
   "execution_count": 3,
   "id": "18a2aab5",
   "metadata": {},
   "outputs": [],
   "source": [
    "import altair as alt\n",
    "import json\n",
    "import matplotlib.pyplot as plt\n",
    "import numpy as np\n",
    "import os\n",
    "import pandas as pd\n",
    "import time\n",
    "\n",
    "from altair_saver import save\n",
    "from datetime import datetime\n",
    "from sseclient import SSEClient as EventSource\n",
    "\n",
    "pd.options.display.max_columns = None\n",
    "pd.options.display.max_rows = None"
   ]
  },
  {
   "cell_type": "markdown",
   "id": "3c2da800",
   "metadata": {},
   "source": [
    "# Data collection"
   ]
  },
  {
   "cell_type": "code",
   "execution_count": null,
   "id": "9a49a7c1",
   "metadata": {},
   "outputs": [],
   "source": [
    "os.makedirs('../data', exist_ok=True)\n",
    "\n",
    "url = 'https://stream.wikimedia.org/v2/stream/recentchange'\n",
    "dataset = []\n",
    "events_counter = 0\n",
    "time_threshold = 60.0\n",
    "t_0  = time.time()\n",
    "\n",
    "for event in EventSource(url): # start streaming\n",
    "    if event.event == 'message':\n",
    "        try:\n",
    "            change = json.loads(event.data)\n",
    "        except ValueError:\n",
    "            continue\n",
    "            \n",
    "        events_counter += 1\n",
    "        user_hash = hash(change['user'])\n",
    "        \n",
    "        if user_hash % 10 < 2: # filter\n",
    "            dataset.append(change)\n",
    "            \n",
    "        if (time.time() - t_0)//60 > time_threshold:\n",
    "            break\n",
    "            \n",
    "df = pd.DataFrame(dataset)\n",
    "df.to_csv(f'../data/dataset_{t_0}.csv')"
   ]
  },
  {
   "cell_type": "markdown",
   "id": "d8c1e913",
   "metadata": {},
   "source": [
    "## Import after preparation"
   ]
  },
  {
   "cell_type": "code",
   "execution_count": null,
   "id": "602b2585",
   "metadata": {},
   "outputs": [],
   "source": [
    "# reading prepared dataset\n",
    "df = pd.read_csv('https://raw.githubusercontent.com/madmalewolf/stat-open-/main/all_data.tsv.gz', sep='\\t', compression='gzip',)\n",
    "print(f'df.shape = {df.shape}')\n",
    "df.head(2)"
   ]
  },
  {
   "cell_type": "markdown",
   "id": "9421cf78",
   "metadata": {},
   "source": [
    "# Data exploration"
   ]
  },
  {
   "cell_type": "markdown",
   "id": "323ad148",
   "metadata": {},
   "source": [
    "## Number of changes done by user"
   ]
  },
  {
   "cell_type": "code",
   "execution_count": null,
   "id": "6d0ad0ed",
   "metadata": {},
   "outputs": [],
   "source": [
    "os.makedirs('../charts', exist_ok=True) # create dir for charts\n",
    "\n",
    "gd_dict = {row['user']: row['bot'] for _, row in df.iterrows()}\n",
    "df_counts = df.user.value_counts().reset_index()\n",
    "df_counts.columns = ['user', 'changes']\n",
    "df_counts['bot'] = df_counts.user.map(lambda x: gd_dict[x])\n",
    "df_counts.head()\n",
    "\n",
    "np.random.seed(42)\n",
    "sample_df = df_counts.sample(min(df_counts.shape[0], 400))\n",
    "\n",
    "chart_counts = alt.Chart(sample_df).mark_area(\n",
    "    interpolate='step'\n",
    ").encode(\n",
    "    x = alt.X('user', axis=alt.Axis(labels=False, ticks=False)),\n",
    "    y = alt.Y('changes:Q'),\n",
    "    color = alt.Color('bot:N'),\n",
    "    tooltip = [alt.Tooltip('user')]\n",
    ").properties(\n",
    "    width = 600,\n",
    "    height = 400,\n",
    "    title = 'Number of changes by user'\n",
    ")\n",
    "\n",
    "chart_bots = alt.Chart(sample_df).mark_area(\n",
    "    interpolate='step'\n",
    ").encode(\n",
    "    x = alt.X('bot:N', axis=alt.Axis(labels=False, ticks=False)),\n",
    "    y = alt.Y('count()', title='count'),\n",
    "    tooltip = [alt.Tooltip('count()', title='No of users')]\n",
    ").properties(\n",
    "    width = 200,\n",
    "    height = 400,\n",
    "    title = 'Number of bots'\n",
    ")\n",
    "\n",
    "chart = chart_counts | chart_bots\n",
    "\n",
    "save(chart, '../charts/total_number_changes.html')\n",
    "chart"
   ]
  },
  {
   "cell_type": "markdown",
   "id": "640cbbb3",
   "metadata": {},
   "source": [
    "## Avg number of changes done by user per timestamp"
   ]
  },
  {
   "cell_type": "code",
   "execution_count": null,
   "id": "83be622d",
   "metadata": {},
   "outputs": [],
   "source": [
    "# df['timestamp_parsed'] = df.timestamp.map(lambda x: datetime.fromtimestamp(x))\n",
    "\n",
    "avg_changes_per_timestamp = df[['user', 'timestamp']].value_counts().groupby('user').mean().reset_index()\n",
    "avg_changes_per_timestamp.columns = ['user', 'changes_per_timestamp']\n",
    "avg_changes_per_timestamp['bot'] = avg_changes_per_timestamp.user.map(lambda x: gd_dict[x])\n",
    "\n",
    "np.random.seed(42)\n",
    "sample_df = avg_changes_per_timestamp.sample(min(avg_changes_per_timestamp.shape[0], 400))\n",
    "\n",
    "chart_counts = alt.Chart(sample_df).mark_area(\n",
    "    interpolate='step'\n",
    ").encode(\n",
    "    x = alt.X('user', axis=alt.Axis(labels=False, ticks=False)),\n",
    "    y = alt.Y('changes_per_timestamp:Q'),\n",
    "    color = alt.Color('bot:N'),\n",
    "    tooltip = [alt.Tooltip('user'), alt.Tooltip('changes_per_timestamp:Q')]\n",
    ").properties(\n",
    "    width = 600,\n",
    "    height = 400,\n",
    "    title = 'Avg number of changes by user per timestamp'\n",
    ")\n",
    "\n",
    "chart_bots = alt.Chart(sample_df).mark_area(\n",
    "    interpolate='step'\n",
    ").encode(\n",
    "    x = alt.X('bot:N', axis=alt.Axis(labels=False, ticks=False)),\n",
    "    y = alt.Y('count()', title='count'),\n",
    "    tooltip = [alt.Tooltip('count()', title='No of users')]\n",
    ").properties(\n",
    "    width = 200,\n",
    "    height = 400,\n",
    "    title = 'Number of bots'\n",
    ")\n",
    "\n",
    "chart = chart_counts | chart_bots\n",
    "\n",
    "save(chart, '../charts/avg_number_changes_per_timestamp.html')\n",
    "chart"
   ]
  },
  {
   "cell_type": "markdown",
   "id": "6ceecbd6",
   "metadata": {},
   "source": [
    "## Avg number of changes done by user per timestamp (balanced by bot/not bot)"
   ]
  },
  {
   "cell_type": "code",
   "execution_count": null,
   "id": "60c8b618",
   "metadata": {},
   "outputs": [],
   "source": [
    "avg_changes_per_timestamp = df[['user', 'timestamp']].value_counts().groupby('user').mean().reset_index()\n",
    "avg_changes_per_timestamp.columns = ['user', 'changes_per_timestamp']\n",
    "avg_changes_per_timestamp['bot'] = avg_changes_per_timestamp.user.map(lambda x: gd_dict[x])\n",
    "\n",
    "np.random.seed(42)\n",
    "num = avg_changes_per_timestamp[avg_changes_per_timestamp.bot].shape[0]\n",
    "bot_sample_df = avg_changes_per_timestamp[avg_changes_per_timestamp.bot].sample(num)\n",
    "not_bot_sample_df = avg_changes_per_timestamp[~avg_changes_per_timestamp.bot].sample(num)\n",
    "\n",
    "sample_df = pd.concat([bot_sample_df, not_bot_sample_df])\n",
    "\n",
    "chart_counts = alt.Chart(sample_df).mark_area(\n",
    "    interpolate='step'\n",
    ").encode(\n",
    "    x = alt.X('user', axis=alt.Axis(labels=False, ticks=False)),\n",
    "    y = alt.Y('changes_per_timestamp:Q'),\n",
    "    color = alt.Color('bot:N'),\n",
    "    tooltip = [alt.Tooltip('user'), alt.Tooltip('changes_per_timestamp:Q')]\n",
    ").properties(\n",
    "    width = 600,\n",
    "    height = 400,\n",
    "    title = 'Avg number of changes by user per timestamp'\n",
    ")\n",
    "\n",
    "chart_bots = alt.Chart(sample_df).mark_area(\n",
    "    interpolate='step'\n",
    ").encode(\n",
    "    x = alt.X('bot:N', axis=alt.Axis(labels=False, ticks=False)),\n",
    "    y = alt.Y('count()', title='count'),\n",
    "    tooltip = [\n",
    "        alt.Tooltip('count()', title='No of users'), \n",
    "        alt.Tooltip('bot')\n",
    "    ]\n",
    ").properties(\n",
    "    width = 200,\n",
    "    height = 400,\n",
    "    title = 'Number of bots'\n",
    ")\n",
    "\n",
    "chart = chart_counts | chart_bots\n",
    "\n",
    "save(chart, '../charts/avg_number_changes_per_timestamp_balanced.html')\n",
    "chart"
   ]
  },
  {
   "cell_type": "code",
   "execution_count": null,
   "id": "6abf1939",
   "metadata": {},
   "outputs": [],
   "source": [
    "sample_df[['changes_per_timestamp', 'bot']].groupby('bot').mean()"
   ]
  },
  {
   "cell_type": "markdown",
   "id": "9522560a",
   "metadata": {},
   "source": [
    "## Avg number of changes done by user per timestamp (balanced by bot/not bot) having more than 1 change"
   ]
  },
  {
   "cell_type": "code",
   "execution_count": null,
   "id": "fefe280a",
   "metadata": {},
   "outputs": [],
   "source": [
    "avg_changes_per_timestamp = df[['user', 'timestamp']].value_counts().groupby('user').mean().reset_index()\n",
    "avg_changes_per_timestamp.columns = ['user', 'changes_per_timestamp']\n",
    "avg_changes_per_timestamp['bot'] = avg_changes_per_timestamp.user.map(lambda x: gd_dict[x])\n",
    "\n",
    "avg_changes_per_timestamp = avg_changes_per_timestamp[avg_changes_per_timestamp.changes_per_timestamp > 1.]\n",
    "\n",
    "num = avg_changes_per_timestamp[avg_changes_per_timestamp.bot].shape[0]\n",
    "print(f'There are {num} bots')\n",
    "\n",
    "np.random.seed(42)\n",
    "bot_sample_df = avg_changes_per_timestamp[avg_changes_per_timestamp.bot].sample(num)\n",
    "not_bot_sample_df = avg_changes_per_timestamp[~avg_changes_per_timestamp.bot].sample(num)\n",
    "\n",
    "sample_df = pd.concat([bot_sample_df, not_bot_sample_df])\n",
    "\n",
    "chart_counts = alt.Chart(sample_df).mark_area(\n",
    "    interpolate='step'\n",
    ").encode(\n",
    "    x = alt.X('user', axis=alt.Axis(labels=False, ticks=False)),\n",
    "    y = alt.Y('changes_per_timestamp:Q'),\n",
    "    color = alt.Color('bot:N'),\n",
    "    tooltip = [alt.Tooltip('user'), alt.Tooltip('changes_per_timestamp:Q')]\n",
    ").properties(\n",
    "    width = 600,\n",
    "    height = 400,\n",
    "    title = 'Avg number of changes by user per timestamp with more than 1 change'\n",
    ")\n",
    "\n",
    "chart_bots = alt.Chart(sample_df).mark_area(\n",
    "    interpolate='step'\n",
    ").encode(\n",
    "    x = alt.X('bot:N', axis=alt.Axis(labels=False, ticks=False)),\n",
    "    y = alt.Y('count()', title='count'),\n",
    "    tooltip = [\n",
    "        alt.Tooltip('count()', title='No of users'), \n",
    "        alt.Tooltip('bot')\n",
    "    ]\n",
    ").properties(\n",
    "    width = 200,\n",
    "    height = 400,\n",
    "    title = 'Number of bots'\n",
    ")\n",
    "\n",
    "chart = chart_counts | chart_bots\n",
    "\n",
    "save(chart, '../charts/avg_number_changes_per_timestamp_balanced_with_filter.html')\n",
    "chart"
   ]
  },
  {
   "cell_type": "code",
   "execution_count": null,
   "id": "35886e0e",
   "metadata": {},
   "outputs": [],
   "source": [
    "sample_df[['changes_per_timestamp', 'bot']].groupby('bot').mean()"
   ]
  },
  {
   "cell_type": "code",
   "execution_count": null,
   "id": "7834286e",
   "metadata": {},
   "outputs": [],
   "source": [
    "df[(df.user == 'Phediuk')&(df.timestamp == 1633643510)]"
   ]
  },
  {
   "cell_type": "code",
   "execution_count": null,
   "id": "83dc2459",
   "metadata": {},
   "outputs": [],
   "source": [
    "df[(df.user == 'Prairie Astronomer')&(df.timestamp == 1633653280)]"
   ]
  },
  {
   "cell_type": "markdown",
   "id": "55a6b061",
   "metadata": {},
   "source": [
    "## Change type analysis"
   ]
  },
  {
   "cell_type": "code",
   "execution_count": null,
   "id": "b0841ccf",
   "metadata": {},
   "outputs": [],
   "source": [
    "df.type.value_counts()"
   ]
  },
  {
   "cell_type": "code",
   "execution_count": null,
   "id": "2c7d6e2e",
   "metadata": {},
   "outputs": [],
   "source": [
    "df[['type', 'bot', 'minor']].value_counts()"
   ]
  },
  {
   "cell_type": "code",
   "execution_count": null,
   "id": "623d2ac3",
   "metadata": {},
   "outputs": [],
   "source": [
    "df_edits = df[df.type == 'edit']\n",
    "df_edits.head(2)"
   ]
  },
  {
   "cell_type": "markdown",
   "id": "56f04ac8",
   "metadata": {},
   "source": [
    "## Avg number of edits done by user per timestamp (balanced by bot/not bot) having more than 1 change"
   ]
  },
  {
   "cell_type": "code",
   "execution_count": null,
   "id": "5a3b63de",
   "metadata": {},
   "outputs": [],
   "source": [
    "avg_changes_per_timestamp = df_edits[['user', 'timestamp']].value_counts().groupby('user').mean().reset_index()\n",
    "avg_changes_per_timestamp.columns = ['user', 'changes_per_timestamp']\n",
    "avg_changes_per_timestamp['bot'] = avg_changes_per_timestamp.user.map(lambda x: gd_dict[x])\n",
    "\n",
    "avg_changes_per_timestamp = avg_changes_per_timestamp[avg_changes_per_timestamp.changes_per_timestamp > 1.]\n",
    "\n",
    "num = avg_changes_per_timestamp[avg_changes_per_timestamp.bot].shape[0]\n",
    "print(f'There are {num} bots')\n",
    "\n",
    "np.random.seed(42)\n",
    "bot_sample_df = avg_changes_per_timestamp[avg_changes_per_timestamp.bot].sample(num)\n",
    "not_bot_sample_df = avg_changes_per_timestamp[~avg_changes_per_timestamp.bot].sample(num)\n",
    "\n",
    "sample_df = pd.concat([bot_sample_df, not_bot_sample_df])\n",
    "\n",
    "chart_counts = alt.Chart(sample_df).mark_area(\n",
    "    interpolate='step'\n",
    ").encode(\n",
    "    x = alt.X('user', axis=alt.Axis(labels=False, ticks=False)),\n",
    "    y = alt.Y('changes_per_timestamp:Q'),\n",
    "    color = alt.Color('bot:N'),\n",
    "    tooltip = [alt.Tooltip('user'), alt.Tooltip('changes_per_timestamp:Q')]\n",
    ").properties(\n",
    "    width = 600,\n",
    "    height = 400,\n",
    "    title = 'Avg number of edits by user per timestamp with more than 1 change'\n",
    ")\n",
    "\n",
    "chart_bots = alt.Chart(sample_df).mark_area(\n",
    "    interpolate='step'\n",
    ").encode(\n",
    "    x = alt.X('bot:N', axis=alt.Axis(labels=False, ticks=False)),\n",
    "    y = alt.Y('count()', title='count'),\n",
    "    tooltip = [\n",
    "        alt.Tooltip('count()', title='No of users'), \n",
    "        alt.Tooltip('bot')\n",
    "    ]\n",
    ").properties(\n",
    "    width = 200,\n",
    "    height = 400,\n",
    "    title = 'Number of bots'\n",
    ")\n",
    "\n",
    "chart = chart_counts | chart_bots\n",
    "\n",
    "save(chart, '../charts/avg_number_edits_per_timestamp_balanced_with_filter.html')\n",
    "chart"
   ]
  },
  {
   "cell_type": "code",
   "execution_count": null,
   "id": "f54419f8",
   "metadata": {},
   "outputs": [],
   "source": [
    "df_edits[df_edits.user == 'Jamc2'].head()"
   ]
  },
  {
   "cell_type": "code",
   "execution_count": null,
   "id": "01a07159",
   "metadata": {},
   "outputs": [],
   "source": [
    "sample_df[['changes_per_timestamp', 'bot']].groupby('bot').mean()"
   ]
  },
  {
   "cell_type": "markdown",
   "id": "39222846",
   "metadata": {},
   "source": [
    "# Max number of edits done by user per timestamp (balanced by bot/not bot) having more than 1 change"
   ]
  },
  {
   "cell_type": "code",
   "execution_count": null,
   "id": "6462b62c",
   "metadata": {},
   "outputs": [],
   "source": [
    "avg_changes_per_timestamp = df_edits[['user', 'timestamp']].value_counts().groupby('user').max().reset_index()\n",
    "avg_changes_per_timestamp.columns = ['user', 'changes_per_timestamp']\n",
    "avg_changes_per_timestamp['bot'] = avg_changes_per_timestamp.user.map(lambda x: gd_dict[x])\n",
    "\n",
    "avg_changes_per_timestamp = avg_changes_per_timestamp[avg_changes_per_timestamp.changes_per_timestamp > 1.]\n",
    "\n",
    "num = avg_changes_per_timestamp[avg_changes_per_timestamp.bot].shape[0]\n",
    "print(f'There are {num} bots')\n",
    "\n",
    "np.random.seed(42)\n",
    "bot_sample_df = avg_changes_per_timestamp[avg_changes_per_timestamp.bot].sample(num)\n",
    "not_bot_sample_df = avg_changes_per_timestamp[~avg_changes_per_timestamp.bot].sample(num)\n",
    "\n",
    "sample_df = pd.concat([bot_sample_df, not_bot_sample_df])\n",
    "\n",
    "chart_counts = alt.Chart(sample_df).mark_area(\n",
    "    interpolate='step'\n",
    ").encode(\n",
    "    x = alt.X('user', axis=alt.Axis(labels=False, ticks=False)),\n",
    "    y = alt.Y('changes_per_timestamp:Q'),\n",
    "    color = alt.Color('bot:N'),\n",
    "    tooltip = [alt.Tooltip('user'), alt.Tooltip('changes_per_timestamp:Q')]\n",
    ").properties(\n",
    "    width = 600,\n",
    "    height = 400,\n",
    "    title = 'Max number of edits by user per timestamp with more than 1 change'\n",
    ")\n",
    "\n",
    "chart_bots = alt.Chart(sample_df).mark_area(\n",
    "    interpolate='step'\n",
    ").encode(\n",
    "    x = alt.X('bot:N', axis=alt.Axis(labels=False, ticks=False)),\n",
    "    y = alt.Y('count()', title='count'),\n",
    "    tooltip = [\n",
    "        alt.Tooltip('count()', title='No of users'), \n",
    "        alt.Tooltip('bot')\n",
    "    ]\n",
    ").properties(\n",
    "    width = 200,\n",
    "    height = 400,\n",
    "    title = 'Number of bots'\n",
    ")\n",
    "\n",
    "chart = chart_counts | chart_bots\n",
    "\n",
    "save(chart, '../charts/max_number_edits_per_timestamp_balanced_with_filter.html')\n",
    "chart"
   ]
  },
  {
   "cell_type": "code",
   "execution_count": null,
   "id": "0c7b6fb5",
   "metadata": {},
   "outputs": [],
   "source": [
    "sample_df[['changes_per_timestamp', 'bot']].groupby('bot').max()"
   ]
  },
  {
   "cell_type": "code",
   "execution_count": null,
   "id": "dd3dfe51",
   "metadata": {},
   "outputs": [],
   "source": [
    "sample_df[['changes_per_timestamp', 'bot']].groupby('bot').min()"
   ]
  },
  {
   "cell_type": "code",
   "execution_count": null,
   "id": "82828bee",
   "metadata": {},
   "outputs": [],
   "source": []
  }
 ],
 "metadata": {
  "kernelspec": {
   "display_name": "Python 3 (ipykernel)",
   "language": "python",
   "name": "python3"
  },
  "language_info": {
   "codemirror_mode": {
    "name": "ipython",
    "version": 3
   },
   "file_extension": ".py",
   "mimetype": "text/x-python",
   "name": "python",
   "nbconvert_exporter": "python",
   "pygments_lexer": "ipython3",
   "version": "3.8.10"
  }
 },
 "nbformat": 4,
 "nbformat_minor": 5
}
