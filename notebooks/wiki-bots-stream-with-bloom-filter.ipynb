{
 "cells": [
  {
   "cell_type": "markdown",
   "id": "6bdf42ab",
   "metadata": {},
   "source": [
    "# Set-up"
   ]
  },
  {
   "cell_type": "code",
   "execution_count": 136,
   "id": "553617ff",
   "metadata": {},
   "outputs": [],
   "source": [
    "import json\n",
    "import matplotlib.pyplot as plt\n",
    "import os\n",
    "import pandas as pd\n",
    "import pickle\n",
    "import re\n",
    "import sklearn\n",
    "import time\n",
    "import warnings\n",
    "\n",
    "from collections import Counter\n",
    "from ..helpers import BloomFilter\n",
    "from random import shuffle\n",
    "from sseclient import SSEClient as EventSource\n",
    "\n",
    "warnings.filterwarnings(\"ignore\")\n",
    "\n",
    "URL ='https://stream.wikimedia.org/v2/stream/recentchange'"
   ]
  },
  {
   "cell_type": "code",
   "execution_count": 137,
   "id": "80deba86",
   "metadata": {},
   "outputs": [],
   "source": [
    "def feature_extraction(datafile):\n",
    "    import pandas as pd\n",
    "    if datafile.endswith('.gz'):\n",
    "        df = pd.read_csv(datafile, sep='\\t', compression='gzip',)\n",
    "    else:\n",
    "        df = pd.read_csv(datafile, sep='\\t',)\n",
    "    short_df = df[['timestamp', 'user', 'bot', 'type', 'comment']].copy()\n",
    "    short_df.dropna(inplace=True)\n",
    "    short_df['timestamp'] = pd.to_datetime(short_df['timestamp'].loc[:], unit='s')\n",
    "    short_df = short_df.assign(requests=1)\n",
    "    user_df = short_df.set_index('timestamp').groupby('user')[['bot','requests',]].resample(\"1S\", label='right').sum()\n",
    "    user_df['bot'] = [1 if x > 0.5 else 0 for x in user_df['bot']]\n",
    "    user_df = user_df.reset_index()\n",
    "    user_df = user_df[user_df['requests'] != 0]\n",
    "    user_df = user_df.groupby('user', as_index=False)[['bot','requests']].mean()\n",
    "    user_df['bot'] = user_df['bot'].astype(int)\n",
    "    def count_digits(string): return sum(c.isdigit() for c in string)\n",
    "    user_df['n_digits_name'] = user_df['user'].apply(count_digits)\n",
    "    find_lead_digits = lambda name: len(re.findall('^\\d+', name)[0]) if name[0].isdigit() else 0\n",
    "    user_df['lead_digits_name'] = user_df['user'].apply(find_lead_digits)\n",
    "    def unique_ratio(string): return (len(set(string)) / len(string))\n",
    "    user_df['uniq_char_ratio_name'] = user_df['user'].apply(unique_ratio)\n",
    "    user_df['uniq_char_ratio_name'] = user_df['uniq_char_ratio_name'].round(3)\n",
    "    user_df['bot_in_name'] = (user_df['user'].str.lower().str.contains('bot')).astype(int)\n",
    "    dummies_df = short_df.join(short_df['type'].str.get_dummies())\n",
    "    dummies_df = dummies_df.groupby('user').sum()\n",
    "    dummies_df = dummies_df.drop(['bot', 'requests'], axis=1).reset_index()\n",
    "    try:\n",
    "        dummies_df = dummies_df.drop('142',axis=1)\n",
    "    except KeyError:\n",
    "        pass\n",
    "    comment_df = short_df[['user', 'comment']]\n",
    "    comment_df['len_comment'] = comment_df['comment'].str.len()\n",
    "    def find_alnum_num(name):\n",
    "        for el in name:\n",
    "            if type(el) != str:\n",
    "                return 0\n",
    "            else:\n",
    "                return sum(el.isalnum() for el in name)\n",
    "    comment_df['alnum_ratio_comment'] = comment_df['comment'].astype(\"str\").apply(find_alnum_num)/comment_df['comment'].str.len()\n",
    "    comment_df['bot_in_comment'] = (comment_df['comment'].str.lower().str.contains('bot'))\n",
    "    comment_df = comment_df.drop('bot_in_comment', axis=1)\n",
    "    mean_df = comment_df.groupby('user').mean().rename(columns={'len_comment':'len_comment_avg', 'alnum_ratio_comment':'alnum_ratio_comment_avg'})\n",
    "    min_df = comment_df.groupby('user').min().rename(columns={'len_comment':'len_comment_min', 'alnum_ratio_comment':'alnum_ratio_comment_mix'})\n",
    "    max_df = comment_df.groupby('user').max().rename(columns={'len_comment':'len_comment_max', 'alnum_ratio_comment':'alnum_ratio_comment_max'})\n",
    "    user_df = user_df.merge(dummies_df, on='user', how='outer')\n",
    "    user_df = user_df.merge(min_df, on='user', how='outer')\n",
    "    user_df = user_df.merge(mean_df, on='user', how='outer')\n",
    "    user_df = user_df.merge(max_df, on='user', how='outer')\n",
    "    user_df.drop(['comment_x', 'comment_y'], axis=1, inplace=True)\n",
    "    return user_df"
   ]
  },
  {
   "cell_type": "markdown",
   "id": "3f926eec",
   "metadata": {},
   "source": [
    "# Loading model"
   ]
  },
  {
   "cell_type": "code",
   "execution_count": 131,
   "id": "32aa5860",
   "metadata": {},
   "outputs": [
    {
     "data": {
      "text/plain": [
       "RandomForestClassifier(max_depth=10, random_state=8)"
      ]
     },
     "execution_count": 131,
     "metadata": {},
     "output_type": "execute_result"
    }
   ],
   "source": [
    "model = pickle.load(open('../model/best_model.sav', 'rb'))\n",
    "model"
   ]
  },
  {
   "cell_type": "markdown",
   "id": "5d35994c",
   "metadata": {},
   "source": [
    "# Stream data"
   ]
  },
  {
   "cell_type": "code",
   "execution_count": null,
   "id": "45b9927c",
   "metadata": {},
   "outputs": [],
   "source": [
    "dataset = []\n",
    "time_threshold = 20.\n",
    "t_0  = time.time()\n",
    "\n",
    "for event in EventSource(URL): # start streaming\n",
    "    if event.event == 'message':\n",
    "        try:\n",
    "            change = json.loads(event.data)\n",
    "        except ValueError:\n",
    "            continue\n",
    "            \n",
    "        dataset.append(change)\n",
    "            \n",
    "        if (time.time() - t_0)//60 > time_threshold:\n",
    "            break"
   ]
  },
  {
   "cell_type": "code",
   "execution_count": 83,
   "id": "b08e7f14",
   "metadata": {},
   "outputs": [],
   "source": [
    "df = pd.DataFrame(dataset)\n",
    "filename = f'../data/stream_test_data_{int(time_threshold)}mins.csv'\n",
    "df.to_csv(filename, sep='\\t')"
   ]
  },
  {
   "cell_type": "markdown",
   "id": "f8ffbc7f",
   "metadata": {},
   "source": [
    "# Classify bots"
   ]
  },
  {
   "cell_type": "code",
   "execution_count": 104,
   "id": "b3ab8e93",
   "metadata": {},
   "outputs": [
    {
     "name": "stderr",
     "output_type": "stream",
     "text": [
      "/tmp/ipykernel_25556/2553778985.py:30: SettingWithCopyWarning: \n",
      "A value is trying to be set on a copy of a slice from a DataFrame.\n",
      "Try using .loc[row_indexer,col_indexer] = value instead\n",
      "\n",
      "See the caveats in the documentation: https://pandas.pydata.org/pandas-docs/stable/user_guide/indexing.html#returning-a-view-versus-a-copy\n",
      "  comment_df['len_comment'] = comment_df['comment'].str.len()\n",
      "/tmp/ipykernel_25556/2553778985.py:37: SettingWithCopyWarning: \n",
      "A value is trying to be set on a copy of a slice from a DataFrame.\n",
      "Try using .loc[row_indexer,col_indexer] = value instead\n",
      "\n",
      "See the caveats in the documentation: https://pandas.pydata.org/pandas-docs/stable/user_guide/indexing.html#returning-a-view-versus-a-copy\n",
      "  comment_df['alnum_ratio_comment'] = comment_df['comment'].astype(\"str\").apply(find_alnum_num)/comment_df['comment'].str.len()\n",
      "/tmp/ipykernel_25556/2553778985.py:38: SettingWithCopyWarning: \n",
      "A value is trying to be set on a copy of a slice from a DataFrame.\n",
      "Try using .loc[row_indexer,col_indexer] = value instead\n",
      "\n",
      "See the caveats in the documentation: https://pandas.pydata.org/pandas-docs/stable/user_guide/indexing.html#returning-a-view-versus-a-copy\n",
      "  comment_df['bot_in_comment'] = (comment_df['comment'].str.lower().str.contains('bot'))\n"
     ]
    },
    {
     "data": {
      "text/html": [
       "<div>\n",
       "<style scoped>\n",
       "    .dataframe tbody tr th:only-of-type {\n",
       "        vertical-align: middle;\n",
       "    }\n",
       "\n",
       "    .dataframe tbody tr th {\n",
       "        vertical-align: top;\n",
       "    }\n",
       "\n",
       "    .dataframe thead th {\n",
       "        text-align: right;\n",
       "    }\n",
       "</style>\n",
       "<table border=\"1\" class=\"dataframe\">\n",
       "  <thead>\n",
       "    <tr style=\"text-align: right;\">\n",
       "      <th></th>\n",
       "      <th>user</th>\n",
       "      <th>bot</th>\n",
       "      <th>requests</th>\n",
       "      <th>n_digits_name</th>\n",
       "      <th>lead_digits_name</th>\n",
       "      <th>uniq_char_ratio_name</th>\n",
       "      <th>bot_in_name</th>\n",
       "      <th>categorize</th>\n",
       "      <th>edit</th>\n",
       "      <th>log</th>\n",
       "      <th>new</th>\n",
       "      <th>len_comment_min</th>\n",
       "      <th>alnum_ratio_comment_mix</th>\n",
       "      <th>len_comment_avg</th>\n",
       "      <th>alnum_ratio_comment_avg</th>\n",
       "      <th>len_comment_max</th>\n",
       "      <th>alnum_ratio_comment_max</th>\n",
       "    </tr>\n",
       "  </thead>\n",
       "  <tbody>\n",
       "    <tr>\n",
       "      <th>0</th>\n",
       "      <td>1.145.133.93</td>\n",
       "      <td>0</td>\n",
       "      <td>1.0</td>\n",
       "      <td>9</td>\n",
       "      <td>1</td>\n",
       "      <td>0.500</td>\n",
       "      <td>0</td>\n",
       "      <td>0</td>\n",
       "      <td>1</td>\n",
       "      <td>0</td>\n",
       "      <td>0</td>\n",
       "      <td>4</td>\n",
       "      <td>1.000000</td>\n",
       "      <td>4.000000</td>\n",
       "      <td>1.000000</td>\n",
       "      <td>4</td>\n",
       "      <td>1.0000</td>\n",
       "    </tr>\n",
       "    <tr>\n",
       "      <th>1</th>\n",
       "      <td>1.75.230.98</td>\n",
       "      <td>0</td>\n",
       "      <td>3.0</td>\n",
       "      <td>8</td>\n",
       "      <td>1</td>\n",
       "      <td>0.818</td>\n",
       "      <td>0</td>\n",
       "      <td>2</td>\n",
       "      <td>0</td>\n",
       "      <td>0</td>\n",
       "      <td>1</td>\n",
       "      <td>16</td>\n",
       "      <td>0.545455</td>\n",
       "      <td>54.666667</td>\n",
       "      <td>0.640152</td>\n",
       "      <td>132</td>\n",
       "      <td>0.6875</td>\n",
       "    </tr>\n",
       "    <tr>\n",
       "      <th>2</th>\n",
       "      <td>102.23.96.7</td>\n",
       "      <td>0</td>\n",
       "      <td>1.0</td>\n",
       "      <td>8</td>\n",
       "      <td>3</td>\n",
       "      <td>0.727</td>\n",
       "      <td>0</td>\n",
       "      <td>0</td>\n",
       "      <td>1</td>\n",
       "      <td>0</td>\n",
       "      <td>0</td>\n",
       "      <td>15</td>\n",
       "      <td>0.600000</td>\n",
       "      <td>15.000000</td>\n",
       "      <td>0.600000</td>\n",
       "      <td>15</td>\n",
       "      <td>0.6000</td>\n",
       "    </tr>\n",
       "    <tr>\n",
       "      <th>3</th>\n",
       "      <td>103.132.155.233</td>\n",
       "      <td>0</td>\n",
       "      <td>1.0</td>\n",
       "      <td>12</td>\n",
       "      <td>3</td>\n",
       "      <td>0.400</td>\n",
       "      <td>0</td>\n",
       "      <td>0</td>\n",
       "      <td>6</td>\n",
       "      <td>0</td>\n",
       "      <td>0</td>\n",
       "      <td>14</td>\n",
       "      <td>0.500000</td>\n",
       "      <td>23.166667</td>\n",
       "      <td>0.642433</td>\n",
       "      <td>31</td>\n",
       "      <td>0.7200</td>\n",
       "    </tr>\n",
       "    <tr>\n",
       "      <th>4</th>\n",
       "      <td>103.63.92.29</td>\n",
       "      <td>0</td>\n",
       "      <td>1.0</td>\n",
       "      <td>9</td>\n",
       "      <td>3</td>\n",
       "      <td>0.583</td>\n",
       "      <td>0</td>\n",
       "      <td>0</td>\n",
       "      <td>1</td>\n",
       "      <td>0</td>\n",
       "      <td>0</td>\n",
       "      <td>25</td>\n",
       "      <td>0.800000</td>\n",
       "      <td>25.000000</td>\n",
       "      <td>0.800000</td>\n",
       "      <td>25</td>\n",
       "      <td>0.8000</td>\n",
       "    </tr>\n",
       "  </tbody>\n",
       "</table>\n",
       "</div>"
      ],
      "text/plain": [
       "              user  bot  requests  n_digits_name  lead_digits_name  \\\n",
       "0     1.145.133.93    0       1.0              9                 1   \n",
       "1      1.75.230.98    0       3.0              8                 1   \n",
       "2      102.23.96.7    0       1.0              8                 3   \n",
       "3  103.132.155.233    0       1.0             12                 3   \n",
       "4     103.63.92.29    0       1.0              9                 3   \n",
       "\n",
       "   uniq_char_ratio_name  bot_in_name  categorize  edit  log  new  \\\n",
       "0                 0.500            0           0     1    0    0   \n",
       "1                 0.818            0           2     0    0    1   \n",
       "2                 0.727            0           0     1    0    0   \n",
       "3                 0.400            0           0     6    0    0   \n",
       "4                 0.583            0           0     1    0    0   \n",
       "\n",
       "   len_comment_min  alnum_ratio_comment_mix  len_comment_avg  \\\n",
       "0                4                 1.000000         4.000000   \n",
       "1               16                 0.545455        54.666667   \n",
       "2               15                 0.600000        15.000000   \n",
       "3               14                 0.500000        23.166667   \n",
       "4               25                 0.800000        25.000000   \n",
       "\n",
       "   alnum_ratio_comment_avg  len_comment_max  alnum_ratio_comment_max  \n",
       "0                 1.000000                4                   1.0000  \n",
       "1                 0.640152              132                   0.6875  \n",
       "2                 0.600000               15                   0.6000  \n",
       "3                 0.642433               31                   0.7200  \n",
       "4                 0.800000               25                   0.8000  "
      ]
     },
     "execution_count": 104,
     "metadata": {},
     "output_type": "execute_result"
    }
   ],
   "source": [
    "user_df = feature_extraction(filename)\n",
    "user_df.head()"
   ]
  },
  {
   "cell_type": "code",
   "execution_count": 105,
   "id": "cbc29859",
   "metadata": {},
   "outputs": [
    {
     "data": {
      "text/plain": [
       "((1770, 15), (1770, 1))"
      ]
     },
     "execution_count": 105,
     "metadata": {},
     "output_type": "execute_result"
    }
   ],
   "source": [
    "X_val = user_df.drop(['bot', 'user'], axis=1)\n",
    "y_val = user_df[['bot']]\n",
    "X_val.shape, y_val.shape"
   ]
  },
  {
   "cell_type": "code",
   "execution_count": 106,
   "id": "80470353",
   "metadata": {},
   "outputs": [
    {
     "name": "stderr",
     "output_type": "stream",
     "text": [
      "/home/anastasiaholovenko/.local/lib/python3.8/site-packages/sklearn/base.py:434: UserWarning: X has feature names, but RandomForestClassifier was fitted without feature names\n",
      "  warnings.warn(\n"
     ]
    }
   ],
   "source": [
    "y_pred = model.predict(X_val)"
   ]
  },
  {
   "cell_type": "code",
   "execution_count": 107,
   "id": "1f1f80d1",
   "metadata": {},
   "outputs": [
    {
     "data": {
      "text/plain": [
       "Counter({0.0: 1658, 1.0: 112})"
      ]
     },
     "execution_count": 107,
     "metadata": {},
     "output_type": "execute_result"
    }
   ],
   "source": [
    "Counter(y_pred)"
   ]
  },
  {
   "cell_type": "code",
   "execution_count": 122,
   "id": "8daccc7f",
   "metadata": {},
   "outputs": [
    {
     "data": {
      "text/plain": [
       "['AkBot',\n",
       " 'AlbeROBOT',\n",
       " 'Andrebot',\n",
       " 'AnomieBOT',\n",
       " 'BattyBot',\n",
       " 'BoivieBot',\n",
       " 'BookwormBot',\n",
       " 'Bot Bozze',\n",
       " 'Bot1058',\n",
       " 'BotCancellazioni']"
      ]
     },
     "execution_count": 122,
     "metadata": {},
     "output_type": "execute_result"
    }
   ],
   "source": [
    "black_list = [user for pred, user in zip(y_pred, user_df['user']) if pred]\n",
    "black_list[:10]"
   ]
  },
  {
   "cell_type": "markdown",
   "id": "87d53c73",
   "metadata": {},
   "source": [
    "# Initialize Bloom filter"
   ]
  },
  {
   "cell_type": "code",
   "execution_count": 109,
   "id": "9e0ce916",
   "metadata": {},
   "outputs": [
    {
     "data": {
      "text/plain": [
       "(536, 3)"
      ]
     },
     "execution_count": 109,
     "metadata": {},
     "output_type": "execute_result"
    }
   ],
   "source": [
    "n = len(black_list) # no of items to add\n",
    "p = 0.1  # false positive probability\n",
    " \n",
    "bloom_filter = BloomFilter(n, p)\n",
    "\n",
    "for item in black_list:\n",
    "    bloom_filter.add(item)\n",
    "\n",
    "bloom_filter.size, bloom_filter.hash_count"
   ]
  },
  {
   "cell_type": "markdown",
   "id": "b69d2b0b",
   "metadata": {},
   "source": [
    "# Apply Bloom filter on stream data"
   ]
  },
  {
   "cell_type": "code",
   "execution_count": 110,
   "id": "1965c007",
   "metadata": {},
   "outputs": [],
   "source": [
    "gd_dataset = []\n",
    "bloom_filter_users = []\n",
    "time_threshold = 3.0\n",
    "t_0  = time.time()\n",
    "\n",
    "for event in EventSource(URL): # start streaming\n",
    "    if event.event == 'message':\n",
    "        try:\n",
    "            change = json.loads(event.data)\n",
    "        except ValueError:\n",
    "            continue\n",
    "            \n",
    "        gd_dataset.append(change)\n",
    "        \n",
    "        user_name = change['user']\n",
    "        \n",
    "        if bloom_filter.check(user_name):\n",
    "            bloom_filter_users.append(user_name)\n",
    "            \n",
    "        if (time.time() - t_0)//60 > time_threshold:\n",
    "            break"
   ]
  },
  {
   "cell_type": "code",
   "execution_count": 111,
   "id": "9e935c05",
   "metadata": {},
   "outputs": [],
   "source": [
    "df = pd.DataFrame(gd_dataset)\n",
    "df.to_csv(f'../data/stream_validation_data_{int(time_threshold)}mins.csv', sep='\\t')"
   ]
  },
  {
   "cell_type": "markdown",
   "id": "b1d1cd38",
   "metadata": {},
   "source": [
    "# Evaluate Bloom filter"
   ]
  },
  {
   "cell_type": "code",
   "execution_count": 112,
   "id": "9ccefa8b",
   "metadata": {},
   "outputs": [],
   "source": [
    "gd_black_set = set(df[df.bot].user.unique())\n",
    "bloom_filter_set = set(bloom_filter_users)"
   ]
  },
  {
   "cell_type": "code",
   "execution_count": 114,
   "id": "ca3ef283",
   "metadata": {},
   "outputs": [
    {
     "data": {
      "text/plain": [
       "(49, 95)"
      ]
     },
     "execution_count": 114,
     "metadata": {},
     "output_type": "execute_result"
    }
   ],
   "source": [
    "len(gd_black_set), len(bloom_filter_set)"
   ]
  },
  {
   "cell_type": "code",
   "execution_count": 120,
   "id": "70330f68",
   "metadata": {},
   "outputs": [
    {
     "data": {
      "text/plain": [
       "0.7346938775510204"
      ]
     },
     "execution_count": 120,
     "metadata": {},
     "output_type": "execute_result"
    }
   ],
   "source": [
    "len(bloom_filter_set.intersection(gd_black_set))/len(gd_black_set)"
   ]
  },
  {
   "cell_type": "code",
   "execution_count": 121,
   "id": "9f8e08f4",
   "metadata": {},
   "outputs": [
    {
     "data": {
      "text/plain": [
       "0.37894736842105264"
      ]
     },
     "execution_count": 121,
     "metadata": {},
     "output_type": "execute_result"
    }
   ],
   "source": [
    "len(bloom_filter_set.intersection(gd_black_set))/len(bloom_filter_set)"
   ]
  },
  {
   "cell_type": "markdown",
   "id": "27a77f06",
   "metadata": {},
   "source": [
    "# Unified pipeline"
   ]
  },
  {
   "cell_type": "code",
   "execution_count": 133,
   "id": "f91172e3",
   "metadata": {},
   "outputs": [],
   "source": [
    "model = pickle.load(open('../model/best_model.sav', 'rb'))"
   ]
  },
  {
   "cell_type": "code",
   "execution_count": null,
   "id": "ad3e5e3a",
   "metadata": {},
   "outputs": [
    {
     "name": "stdout",
     "output_type": "stream",
     "text": [
      "Running stream for 20.0 mins...\n",
      "\n",
      "\n",
      "Generated file data/stream_test_data_20mins_1633734628.8294969.csv\n",
      "\n",
      "Black list length is 84\n",
      "\n",
      "Generated Bloom filter with (402, 3)\n",
      "\n",
      "Took 2.6186375617980957 seconds to preprocess, predict and create bloom\n",
      "\n",
      "Running stream for 20.0 mins...\n",
      "\n"
     ]
    }
   ],
   "source": [
    "%%time\n",
    "\n",
    "results = []\n",
    "\n",
    "params_grid = [\n",
    "    {'classifier_time_limit': 20., 'bloom_filter_time_limit': 20., },\n",
    "    {'classifier_time_limit': 20., 'bloom_filter_time_limit': 15., },\n",
    "    {'classifier_time_limit': 20., 'bloom_filter_time_limit': 10., },\n",
    "    {'classifier_time_limit': 20., 'bloom_filter_time_limit': 5., },\n",
    "    {'classifier_time_limit': 20., 'bloom_filter_time_limit': 3., },\n",
    "    {'classifier_time_limit': 10., 'bloom_filter_time_limit': 3., },\n",
    "    {'classifier_time_limit': 5., 'bloom_filter_time_limit': 3., },\n",
    "    {'classifier_time_limit': 3., 'bloom_filter_time_limit': 1., },\n",
    "]\n",
    "\n",
    "for params in params_grid:\n",
    "    result = params.copy()\n",
    "    \n",
    "    t_0  = time.time()\n",
    "    dataset = []\n",
    "    \n",
    "    time_threshold = params['classifier_time_limit']\n",
    "    print(f'Running stream for {time_threshold} mins...\\n')\n",
    "\n",
    "    # stream to generate data for black list\n",
    "    for event in EventSource(URL): # start streaming\n",
    "        if event.event == 'message':\n",
    "            try:\n",
    "                change = json.loads(event.data)\n",
    "            except ValueError:\n",
    "                continue\n",
    "\n",
    "            dataset.append(change)\n",
    "\n",
    "            if (time.time() - t_0)//60 > time_threshold:\n",
    "                break\n",
    "\n",
    "    filename = f'../data/stream_test_data_{int(time_threshold)}mins_{t_0}.csv'\n",
    "    df = pd.DataFrame(dataset)\n",
    "    df.to_csv(filename, sep='\\t')\n",
    "    print(f'Generated file {filename}\\n')\n",
    "    \n",
    "    t1 = time.time()\n",
    "    \n",
    "    user_df = feature_extraction(filename)\n",
    "    X_val = user_df.drop(['bot', 'user'], axis=1)\n",
    "    y_val = user_df[['bot']]\n",
    "    \n",
    "    y_pred = model.predict(X_val)\n",
    "    \n",
    "    black_list = [user for pred, user in zip(y_pred, user_df['user']) if pred]\n",
    "    print(f'Black list length is {len(black_list)}\\n')\n",
    "    \n",
    "    # generate bloom filter\n",
    "    bloom_filter = BloomFilter(len(black_list), 0.1)\n",
    "    for item in black_list:\n",
    "        bloom_filter.add(item)\n",
    "    \n",
    "    t2 = time.time()\n",
    "    print(f'Generated Bloom filter with {bloom_filter.size, bloom_filter.hash_count}\\n')\n",
    "    print(f'Took {t2 - t1} seconds to preprocess, predict and create bloom\\n')\n",
    "    \n",
    "    gd_dataset = []\n",
    "    bloom_filter_users = []\n",
    "    t_0  = time.time()\n",
    "    \n",
    "    time_threshold = params['bloom_filter_time_limit']\n",
    "    print(f'Running stream for {time_threshold} mins...\\n')\n",
    "\n",
    "    # stream to generate data for evaluation\n",
    "    for event in EventSource(URL): # start streaming\n",
    "        if event.event == 'message':\n",
    "            try:\n",
    "                change = json.loads(event.data)\n",
    "            except ValueError:\n",
    "                continue\n",
    "\n",
    "            gd_dataset.append(change)\n",
    "\n",
    "            user_name = change['user']\n",
    "            if bloom_filter.check(user_name):\n",
    "                bloom_filter_users.append(user_name)\n",
    "\n",
    "            if (time.time() - t_0)//60 > time_threshold:\n",
    "                break\n",
    "        \n",
    "    filename = f'../data/stream_validation_data_{int(time_threshold)}mins_{t_0}.csv'\n",
    "    df = pd.DataFrame(gd_dataset)\n",
    "    df.to_csv(filename, sep='\\t')\n",
    "    print(f'Generated ground truth file {filename}\\n')\n",
    "    \n",
    "    gd_black_set = set(df[df.bot].user.unique())\n",
    "    bloom_filter_set = set(bloom_filter_users)\n",
    "    \n",
    "    result.update({\n",
    "        'real_bots_count': len(gd_black_set),\n",
    "        'bloom_bots_count': len(bloom_filter_set),\n",
    "        'acc_rel_real': len(bloom_filter_set.intersection(gd_black_set))/len(gd_black_set),\n",
    "        'acc_rel_bloom': len(bloom_filter_set.intersection(gd_black_set))/len(bloom_filter_set),\n",
    "        'acc_rel_bloom': len(bloom_filter_set.intersection(gd_black_set))/len(bloom_filter_set),\n",
    "        'intersec_count': len(bloom_filter_set.intersection(gd_black_set)),\n",
    "    })\n",
    "    \n",
    "    print(f'Result - {result}\\n')\n",
    "    results.append(result)\n",
    "\n",
    "print(results)\n",
    "\n",
    "with open('results.json', 'w') as output_file:\n",
    "    json.dump(results, output_file)"
   ]
  },
  {
   "cell_type": "code",
   "execution_count": null,
   "id": "b6e45e38",
   "metadata": {},
   "outputs": [],
   "source": []
  }
 ],
 "metadata": {
  "kernelspec": {
   "display_name": "Python 3 (ipykernel)",
   "language": "python",
   "name": "python3"
  },
  "language_info": {
   "codemirror_mode": {
    "name": "ipython",
    "version": 3
   },
   "file_extension": ".py",
   "mimetype": "text/x-python",
   "name": "python",
   "nbconvert_exporter": "python",
   "pygments_lexer": "ipython3",
   "version": "3.8.10"
  }
 },
 "nbformat": 4,
 "nbformat_minor": 5
}
