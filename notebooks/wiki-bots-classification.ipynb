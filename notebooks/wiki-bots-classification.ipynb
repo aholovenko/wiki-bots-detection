{
 "cells": [
  {
   "cell_type": "markdown",
   "metadata": {
    "id": "pGwcMhxCiWhS"
   },
   "source": [
    "# Bot classifier"
   ]
  },
  {
   "cell_type": "markdown",
   "metadata": {
    "id": "hNsyZVZ9iage"
   },
   "source": [
    "## Set-up"
   ]
  },
  {
   "cell_type": "code",
   "execution_count": 1,
   "metadata": {
    "id": "daALxB2CA6nF"
   },
   "outputs": [],
   "source": [
    "import json\n",
    "import matplotlib.pyplot as plt\n",
    "import numpy as np\n",
    "import os\n",
    "import pandas as pd\n",
    "import re\n",
    "import time\n",
    "\n",
    "from random import shuffle"
   ]
  },
  {
   "cell_type": "markdown",
   "metadata": {
    "id": "pYWjX3uzieBy"
   },
   "source": [
    "## Dataset import"
   ]
  },
  {
   "cell_type": "code",
   "execution_count": 2,
   "metadata": {
    "colab": {
     "base_uri": "https://localhost:8080/",
     "height": 267
    },
    "id": "otuwDR2nDW7X",
    "outputId": "3b131d78-2714-4f2a-b263-0e15b3d87d80"
   },
   "outputs": [
    {
     "name": "stdout",
     "output_type": "stream",
     "text": [
      "df.shape = (120467, 26)\n"
     ]
    },
    {
     "data": {
      "text/html": [
       "<div>\n",
       "<style scoped>\n",
       "    .dataframe tbody tr th:only-of-type {\n",
       "        vertical-align: middle;\n",
       "    }\n",
       "\n",
       "    .dataframe tbody tr th {\n",
       "        vertical-align: top;\n",
       "    }\n",
       "\n",
       "    .dataframe thead th {\n",
       "        text-align: right;\n",
       "    }\n",
       "</style>\n",
       "<table border=\"1\" class=\"dataframe\">\n",
       "  <thead>\n",
       "    <tr style=\"text-align: right;\">\n",
       "      <th></th>\n",
       "      <th>Unnamed: 0</th>\n",
       "      <th>Unnamed: 0.1</th>\n",
       "      <th>$schema</th>\n",
       "      <th>meta</th>\n",
       "      <th>id</th>\n",
       "      <th>type</th>\n",
       "      <th>namespace</th>\n",
       "      <th>title</th>\n",
       "      <th>comment</th>\n",
       "      <th>timestamp</th>\n",
       "      <th>user</th>\n",
       "      <th>bot</th>\n",
       "      <th>minor</th>\n",
       "      <th>patrolled</th>\n",
       "      <th>length</th>\n",
       "      <th>revision</th>\n",
       "      <th>server_url</th>\n",
       "      <th>server_name</th>\n",
       "      <th>server_script_path</th>\n",
       "      <th>wiki</th>\n",
       "      <th>parsedcomment</th>\n",
       "      <th>log_id</th>\n",
       "      <th>log_type</th>\n",
       "      <th>log_action</th>\n",
       "      <th>log_params</th>\n",
       "      <th>log_action_comment</th>\n",
       "    </tr>\n",
       "  </thead>\n",
       "  <tbody>\n",
       "    <tr>\n",
       "      <th>0</th>\n",
       "      <td>0</td>\n",
       "      <td>0</td>\n",
       "      <td>/mediawiki/recentchange/1.0.0</td>\n",
       "      <td>{'uri': 'https://www.wikidata.org/wiki/Q108828...</td>\n",
       "      <td>1.556609e+09</td>\n",
       "      <td>edit</td>\n",
       "      <td>0</td>\n",
       "      <td>Q108828195</td>\n",
       "      <td>/* wbsetreference-add:2| */ [[Property:P570]]:...</td>\n",
       "      <td>1633634790</td>\n",
       "      <td>Quesotiotyo</td>\n",
       "      <td>False</td>\n",
       "      <td>False</td>\n",
       "      <td>True</td>\n",
       "      <td>{'old': 28649, 'new': 29712}</td>\n",
       "      <td>{'old': 1509178938, 'new': 1509178965}</td>\n",
       "      <td>https://www.wikidata.org</td>\n",
       "      <td>www.wikidata.org</td>\n",
       "      <td>/w</td>\n",
       "      <td>wikidatawiki</td>\n",
       "      <td>‎&lt;span dir=\"auto\"&gt;&lt;span class=\"autocomment\"&gt;Ad...</td>\n",
       "      <td>NaN</td>\n",
       "      <td>NaN</td>\n",
       "      <td>NaN</td>\n",
       "      <td>NaN</td>\n",
       "      <td>NaN</td>\n",
       "    </tr>\n",
       "    <tr>\n",
       "      <th>1</th>\n",
       "      <td>1</td>\n",
       "      <td>1</td>\n",
       "      <td>/mediawiki/recentchange/1.0.0</td>\n",
       "      <td>{'uri': 'https://www.wikidata.org/wiki/Q175855...</td>\n",
       "      <td>1.556609e+09</td>\n",
       "      <td>edit</td>\n",
       "      <td>0</td>\n",
       "      <td>Q17585531</td>\n",
       "      <td>/* wbsetreference-set:2| */ [[Property:P141]]:...</td>\n",
       "      <td>1633634789</td>\n",
       "      <td>SuccuBot</td>\n",
       "      <td>True</td>\n",
       "      <td>False</td>\n",
       "      <td>True</td>\n",
       "      <td>{'old': 16134, 'new': 16134}</td>\n",
       "      <td>{'old': 1458793714, 'new': 1509178961}</td>\n",
       "      <td>https://www.wikidata.org</td>\n",
       "      <td>www.wikidata.org</td>\n",
       "      <td>/w</td>\n",
       "      <td>wikidatawiki</td>\n",
       "      <td>‎&lt;span dir=\"auto\"&gt;&lt;span class=\"autocomment\"&gt;Fu...</td>\n",
       "      <td>NaN</td>\n",
       "      <td>NaN</td>\n",
       "      <td>NaN</td>\n",
       "      <td>NaN</td>\n",
       "      <td>NaN</td>\n",
       "    </tr>\n",
       "  </tbody>\n",
       "</table>\n",
       "</div>"
      ],
      "text/plain": [
       "   Unnamed: 0  Unnamed: 0.1  ... log_params log_action_comment\n",
       "0           0             0  ...        NaN                NaN\n",
       "1           1             1  ...        NaN                NaN\n",
       "\n",
       "[2 rows x 26 columns]"
      ]
     },
     "execution_count": 2,
     "metadata": {},
     "output_type": "execute_result"
    }
   ],
   "source": [
    "# reading prepared dataset\n",
    "df = pd.read_csv('https://raw.githubusercontent.com/madmalewolf/stat-open-/main/all_data.tsv.gz', sep='\\t', compression='gzip',)\n",
    "print(f'df.shape = {df.shape}')\n",
    "df.head(2)"
   ]
  },
  {
   "cell_type": "markdown",
   "metadata": {
    "id": "rNci-SjKii5h"
   },
   "source": [
    "## Data preprocessing"
   ]
  },
  {
   "cell_type": "code",
   "execution_count": 3,
   "metadata": {
    "colab": {
     "base_uri": "https://localhost:8080/",
     "height": 128
    },
    "id": "lw_tuZtp30uL",
    "outputId": "94eab0bc-d3f8-471b-e67a-3584da9110f8"
   },
   "outputs": [
    {
     "name": "stdout",
     "output_type": "stream",
     "text": [
      "short_df.shape = (110072, 5)\n"
     ]
    },
    {
     "data": {
      "text/html": [
       "<div>\n",
       "<style scoped>\n",
       "    .dataframe tbody tr th:only-of-type {\n",
       "        vertical-align: middle;\n",
       "    }\n",
       "\n",
       "    .dataframe tbody tr th {\n",
       "        vertical-align: top;\n",
       "    }\n",
       "\n",
       "    .dataframe thead th {\n",
       "        text-align: right;\n",
       "    }\n",
       "</style>\n",
       "<table border=\"1\" class=\"dataframe\">\n",
       "  <thead>\n",
       "    <tr style=\"text-align: right;\">\n",
       "      <th></th>\n",
       "      <th>timestamp</th>\n",
       "      <th>user</th>\n",
       "      <th>bot</th>\n",
       "      <th>type</th>\n",
       "      <th>comment</th>\n",
       "    </tr>\n",
       "  </thead>\n",
       "  <tbody>\n",
       "    <tr>\n",
       "      <th>0</th>\n",
       "      <td>1633634790</td>\n",
       "      <td>Quesotiotyo</td>\n",
       "      <td>False</td>\n",
       "      <td>edit</td>\n",
       "      <td>/* wbsetreference-add:2| */ [[Property:P570]]:...</td>\n",
       "    </tr>\n",
       "    <tr>\n",
       "      <th>1</th>\n",
       "      <td>1633634789</td>\n",
       "      <td>SuccuBot</td>\n",
       "      <td>True</td>\n",
       "      <td>edit</td>\n",
       "      <td>/* wbsetreference-set:2| */ [[Property:P141]]:...</td>\n",
       "    </tr>\n",
       "  </tbody>\n",
       "</table>\n",
       "</div>"
      ],
      "text/plain": [
       "    timestamp  ...                                            comment\n",
       "0  1633634790  ...  /* wbsetreference-add:2| */ [[Property:P570]]:...\n",
       "1  1633634789  ...  /* wbsetreference-set:2| */ [[Property:P141]]:...\n",
       "\n",
       "[2 rows x 5 columns]"
      ]
     },
     "execution_count": 3,
     "metadata": {},
     "output_type": "execute_result"
    }
   ],
   "source": [
    "# Narrow to relevant data\n",
    "short_df = df[['timestamp', 'user', 'bot', 'type', 'comment']].copy()\n",
    "short_df.dropna(inplace=True)\n",
    "print(f'short_df.shape = {short_df.shape}')\n",
    "short_df.head(2)"
   ]
  },
  {
   "cell_type": "markdown",
   "metadata": {
    "id": "4q53i2Ygiz3C"
   },
   "source": [
    "### Feature engineering"
   ]
  },
  {
   "cell_type": "code",
   "execution_count": 5,
   "metadata": {
    "id": "z4WQeL0s40XO"
   },
   "outputs": [],
   "source": [
    "# Convert time column to datetime type\n",
    "short_df['timestamp'] = pd.to_datetime(short_df['timestamp'].loc[:], unit='s')\n",
    "\n",
    "# Add column for number of requests\n",
    "short_df = short_df.assign(requests=1)\n",
    "\n",
    "# Group by User and Merge Number of Requests every 1Sec\n",
    "user_df = short_df.set_index('timestamp').groupby('user')[['bot','requests',]].resample(\"1S\", label='right').sum()\n",
    "\n",
    "# Convert bot column to Boolean\n",
    "user_df['bot'] = [1 if x > 0.5 else 0 for x in user_df['bot']]\n",
    "\n",
    "# Reset index\n",
    "user_df = user_df.reset_index()\n",
    "\n",
    "# Remove useless rows (without requests)\n",
    "user_df = user_df[user_df['requests'] != 0]\n",
    "\n",
    "# Group by user and get the average number of requests\n",
    "user_df = user_df.groupby('user', as_index=False)[['bot','requests']].mean()\n",
    "\n",
    "# Make bot column boolean\n",
    "user_df['bot'] = user_df['bot'].astype(int)"
   ]
  },
  {
   "cell_type": "code",
   "execution_count": 6,
   "metadata": {
    "id": "Ml_MS05F5Pb8"
   },
   "outputs": [],
   "source": [
    "# Count amount of digits in name\n",
    "def count_digits(string):\n",
    "    return sum(c.isdigit() for c in string)\n",
    "\n",
    "user_df['n_digits_name'] = user_df['user'].apply(count_digits)\n",
    "\n",
    "# Find Lead digits\n",
    "find_lead_digits = lambda name: len(re.findall('^\\d+', name)[0]) if name[0].isdigit() else 0\n",
    "\n",
    "user_df['lead_digits_name'] = user_df['user'].apply(find_lead_digits)\n",
    "\n",
    "# Ratio of unique characters in name\n",
    "def unique_ratio(string):\n",
    "    return (len(set(string)) / len(string))\n",
    "\n",
    "user_df['uniq_char_ratio_name'] = user_df['user'].apply(unique_ratio)\n",
    "user_df['uniq_char_ratio_name'] = user_df['uniq_char_ratio_name'].round(3)\n",
    "\n",
    "# Check for word 'bot' in name\n",
    "user_df['bot_in_name'] = (user_df['user'].str.lower().str.contains('bot')).astype(int)"
   ]
  },
  {
   "cell_type": "code",
   "execution_count": 7,
   "metadata": {
    "id": "7fvgfbF_Jely"
   },
   "outputs": [],
   "source": [
    "# Turn type into dummy variables\n",
    "dummies_df = short_df.join(short_df['type'].str.get_dummies())\n",
    "dummies_df = dummies_df.groupby('user').sum()\n",
    "dummies_df = dummies_df.drop(['bot', 'requests'], axis=1).reset_index()\n",
    "dummies_df = dummies_df.drop('142',axis=1)"
   ]
  },
  {
   "cell_type": "code",
   "execution_count": 8,
   "metadata": {
    "colab": {
     "base_uri": "https://localhost:8080/"
    },
    "id": "S3_8a5VYhNVX",
    "outputId": "3b94a3ef-70cc-481c-f3f7-e6ab5f102e8e"
   },
   "outputs": [
    {
     "name": "stderr",
     "output_type": "stream",
     "text": [
      "/usr/local/lib/python3.7/dist-packages/ipykernel_launcher.py:5: SettingWithCopyWarning: \n",
      "A value is trying to be set on a copy of a slice from a DataFrame.\n",
      "Try using .loc[row_indexer,col_indexer] = value instead\n",
      "\n",
      "See the caveats in the documentation: https://pandas.pydata.org/pandas-docs/stable/user_guide/indexing.html#returning-a-view-versus-a-copy\n",
      "  \"\"\"\n",
      "/usr/local/lib/python3.7/dist-packages/ipykernel_launcher.py:15: SettingWithCopyWarning: \n",
      "A value is trying to be set on a copy of a slice from a DataFrame.\n",
      "Try using .loc[row_indexer,col_indexer] = value instead\n",
      "\n",
      "See the caveats in the documentation: https://pandas.pydata.org/pandas-docs/stable/user_guide/indexing.html#returning-a-view-versus-a-copy\n",
      "  from ipykernel import kernelapp as app\n",
      "/usr/local/lib/python3.7/dist-packages/ipykernel_launcher.py:18: SettingWithCopyWarning: \n",
      "A value is trying to be set on a copy of a slice from a DataFrame.\n",
      "Try using .loc[row_indexer,col_indexer] = value instead\n",
      "\n",
      "See the caveats in the documentation: https://pandas.pydata.org/pandas-docs/stable/user_guide/indexing.html#returning-a-view-versus-a-copy\n"
     ]
    }
   ],
   "source": [
    "# Work with Comment\n",
    "comment_df = short_df[['user', 'comment']]\n",
    "\n",
    "# Length of comment\n",
    "comment_df['len_comment'] = comment_df['comment'].str.len()\n",
    "\n",
    "# Ratio of alphanumeric chars to total chars\n",
    "#find_alnum_num = lambda name: sum(el.isalnum() for el in name)\n",
    "def find_alnum_num(name):\n",
    "    for el in name:\n",
    "        if type(el) != str:\n",
    "            return 0\n",
    "        else:\n",
    "            return sum(el.isalnum() for el in name)\n",
    "comment_df['alnum_ratio_comment'] = comment_df['comment'].astype(\"str\").apply(find_alnum_num)/comment_df['comment'].str.len()\n",
    "\n",
    "# Check for word 'bot' in the comment\n",
    "comment_df['bot_in_comment'] = (comment_df['comment'].str.lower().str.contains('bot'))\n",
    "\n",
    "comment_df = comment_df.drop('bot_in_comment', axis=1)\n",
    "\n",
    "mean_df = comment_df.groupby('user').mean().rename(columns={'len_comment':'len_comment_avg', 'alnum_ratio_comment':'alnum_ratio_comment_avg'})\n",
    "min_df = comment_df.groupby('user').min().rename(columns={'len_comment':'len_comment_min', 'alnum_ratio_comment':'alnum_ratio_comment_mix'})\n",
    "max_df = comment_df.groupby('user').max().rename(columns={'len_comment':'len_comment_max', 'alnum_ratio_comment':'alnum_ratio_comment_max'})"
   ]
  },
  {
   "cell_type": "code",
   "execution_count": 9,
   "metadata": {
    "id": "zGWGwNosJlHv"
   },
   "outputs": [],
   "source": [
    "# Merge all dfs into one\n",
    "user_df = user_df.merge(dummies_df, on='user', how='outer')\n",
    "user_df = user_df.merge(min_df, on='user', how='outer')\n",
    "user_df = user_df.merge(mean_df, on='user', how='outer')\n",
    "user_df = user_df.merge(max_df, on='user', how='outer')\n",
    "\n",
    "# user_df.drop(['comment_x', 'comment_y'], axis=1, inplace=True)"
   ]
  },
  {
   "cell_type": "code",
   "execution_count": 10,
   "metadata": {
    "colab": {
     "base_uri": "https://localhost:8080/"
    },
    "id": "HW4KVdc2R8-r",
    "outputId": "dd0ae328-10e5-4856-ac56-6f5d7a2e2ff6"
   },
   "outputs": [
    {
     "data": {
      "text/plain": [
       "(117, 'unique bots in dataset')"
      ]
     },
     "execution_count": 10,
     "metadata": {},
     "output_type": "execute_result"
    }
   ],
   "source": [
    "len(user_df.where(user_df['bot']==True).dropna(subset=['bot'])['user'].unique()), 'unique bots in dataset'"
   ]
  },
  {
   "cell_type": "code",
   "execution_count": 11,
   "metadata": {
    "colab": {
     "base_uri": "https://localhost:8080/"
    },
    "id": "7GkmgdJzSBoB",
    "outputId": "72b68fc5-5ecb-4b06-964d-4ef88c53d866"
   },
   "outputs": [
    {
     "data": {
      "text/plain": [
       "(5359, 'unique human in dataset')"
      ]
     },
     "execution_count": 11,
     "metadata": {},
     "output_type": "execute_result"
    }
   ],
   "source": [
    "len(user_df.where(user_df['bot']==False).dropna(subset=['bot'])['user'].unique()), 'unique human in dataset'"
   ]
  },
  {
   "cell_type": "code",
   "execution_count": 12,
   "metadata": {
    "colab": {
     "base_uri": "https://localhost:8080/",
     "height": 131
    },
    "id": "5hBLPe3UKMKI",
    "outputId": "55ac876a-e78f-4112-a9e2-00cc48ca166c"
   },
   "outputs": [
    {
     "data": {
      "text/html": [
       "<div>\n",
       "<style scoped>\n",
       "    .dataframe tbody tr th:only-of-type {\n",
       "        vertical-align: middle;\n",
       "    }\n",
       "\n",
       "    .dataframe tbody tr th {\n",
       "        vertical-align: top;\n",
       "    }\n",
       "\n",
       "    .dataframe thead th {\n",
       "        text-align: right;\n",
       "    }\n",
       "</style>\n",
       "<table border=\"1\" class=\"dataframe\">\n",
       "  <thead>\n",
       "    <tr style=\"text-align: right;\">\n",
       "      <th></th>\n",
       "      <th>user</th>\n",
       "      <th>bot</th>\n",
       "      <th>requests</th>\n",
       "      <th>n_digits_name</th>\n",
       "      <th>lead_digits_name</th>\n",
       "      <th>uniq_char_ratio_name</th>\n",
       "      <th>bot_in_name</th>\n",
       "      <th>categorize</th>\n",
       "      <th>edit</th>\n",
       "      <th>log</th>\n",
       "      <th>new</th>\n",
       "      <th>len_comment_min</th>\n",
       "      <th>alnum_ratio_comment_mix</th>\n",
       "      <th>len_comment_avg</th>\n",
       "      <th>alnum_ratio_comment_avg</th>\n",
       "      <th>len_comment_max</th>\n",
       "      <th>alnum_ratio_comment_max</th>\n",
       "    </tr>\n",
       "  </thead>\n",
       "  <tbody>\n",
       "    <tr>\n",
       "      <th>0</th>\n",
       "      <td>(:Julien:)</td>\n",
       "      <td>0</td>\n",
       "      <td>2.000000</td>\n",
       "      <td>0</td>\n",
       "      <td>0</td>\n",
       "      <td>0.900</td>\n",
       "      <td>0</td>\n",
       "      <td>2</td>\n",
       "      <td>6</td>\n",
       "      <td>0</td>\n",
       "      <td>0</td>\n",
       "      <td>26</td>\n",
       "      <td>0.676471</td>\n",
       "      <td>54.50000</td>\n",
       "      <td>0.739567</td>\n",
       "      <td>116</td>\n",
       "      <td>0.827586</td>\n",
       "    </tr>\n",
       "    <tr>\n",
       "      <th>1</th>\n",
       "      <td>(a)nnihilation97</td>\n",
       "      <td>0</td>\n",
       "      <td>2.217391</td>\n",
       "      <td>2</td>\n",
       "      <td>0</td>\n",
       "      <td>0.688</td>\n",
       "      <td>0</td>\n",
       "      <td>90</td>\n",
       "      <td>61</td>\n",
       "      <td>0</td>\n",
       "      <td>2</td>\n",
       "      <td>16</td>\n",
       "      <td>0.625000</td>\n",
       "      <td>83.96732</td>\n",
       "      <td>0.729419</td>\n",
       "      <td>494</td>\n",
       "      <td>0.810345</td>\n",
       "    </tr>\n",
       "  </tbody>\n",
       "</table>\n",
       "</div>"
      ],
      "text/plain": [
       "               user  bot  ...  len_comment_max  alnum_ratio_comment_max\n",
       "0        (:Julien:)    0  ...              116                 0.827586\n",
       "1  (a)nnihilation97    0  ...              494                 0.810345\n",
       "\n",
       "[2 rows x 17 columns]"
      ]
     },
     "execution_count": 12,
     "metadata": {},
     "output_type": "execute_result"
    }
   ],
   "source": [
    "user_df.head(2)"
   ]
  },
  {
   "cell_type": "code",
   "execution_count": 13,
   "metadata": {
    "colab": {
     "base_uri": "https://localhost:8080/"
    },
    "id": "If25-hUF4eQl",
    "outputId": "7d543abd-c861-4fd5-8de5-3e22feb0d796"
   },
   "outputs": [
    {
     "name": "stdout",
     "output_type": "stream",
     "text": [
      "There are 117 unique bots and 5359 unique people. % of bots: 0.021\n"
     ]
    }
   ],
   "source": [
    "k = 1.5 #HAVE TO DECIDE\n",
    "\n",
    "unique_bots = user_df.where(user_df['bot']==1).dropna(subset=['bot'])['user'].unique()\n",
    "n_unique_bots = len(unique_bots)\n",
    "unique_ppl = user_df.where(user_df['bot']==0).dropna(subset=['bot'])['user'].unique()\n",
    "n_unique_ppl = len(unique_ppl)\n",
    "print(f'There are {n_unique_bots} unique bots and {n_unique_ppl} unique people. % of bots: {round(n_unique_bots/(n_unique_bots+n_unique_ppl), 3)}')\n",
    "n_downsmpld = int(n_unique_bots*k)\n",
    "\n",
    "# Randomly sample n_downsmpld elements from your dataframe\n",
    "df_elements = user_df.where(user_df['bot']==0).dropna().sample(n=n_downsmpld)\n",
    "df_downsmpld = user_df.loc[user_df.index.isin(df_elements.index)]\n",
    "df_bots = user_df.where(user_df['bot']==1).dropna()\n",
    "user_df_downsmpld = pd.concat([df_bots, df_downsmpld])"
   ]
  },
  {
   "cell_type": "code",
   "execution_count": 15,
   "metadata": {
    "colab": {
     "base_uri": "https://localhost:8080/"
    },
    "id": "HEVF7bJl4zfm",
    "outputId": "6a7b43a7-49a3-4516-cf44-731cc3f2bb0c"
   },
   "outputs": [
    {
     "data": {
      "text/plain": [
       "0.0    175\n",
       "1.0    117\n",
       "Name: bot, dtype: int64"
      ]
     },
     "execution_count": 15,
     "metadata": {},
     "output_type": "execute_result"
    }
   ],
   "source": [
    "user_df_downsmpld.bot.value_counts()"
   ]
  },
  {
   "cell_type": "markdown",
   "metadata": {
    "id": "5WoLUCJ_lJ5g"
   },
   "source": [
    "## Modeling"
   ]
  },
  {
   "cell_type": "code",
   "execution_count": 64,
   "metadata": {
    "id": "fNMqGanKdluD"
   },
   "outputs": [],
   "source": [
    "import pickle\n",
    "import xgboost as xgb\n",
    "\n",
    "from collections import Counter\n",
    "from sklearn.ensemble import GradientBoostingClassifier, RandomForestClassifier\n",
    "from sklearn.linear_model import LogisticRegression\n",
    "from sklearn.metrics import accuracy_score, precision_score, recall_score, classification_report, confusion_matrix\n",
    "from sklearn.model_selection import GridSearchCV, train_test_split\n",
    "from sklearn.tree import DecisionTreeClassifier\n",
    "\n",
    "random_seed = 8"
   ]
  },
  {
   "cell_type": "code",
   "execution_count": 28,
   "metadata": {
    "id": "DRapJKV_dlpR"
   },
   "outputs": [],
   "source": [
    "test_size = 0.2 \n",
    "X_train, X_test, y_train, y_test = train_test_split(user_df_downsmpld.drop(['bot'], axis=1), user_df_downsmpld['bot'], test_size=test_size, random_state=random_seed)\n",
    "X_train = X_train.drop('user', axis=1)\n",
    "X_test = X_test.drop('user', axis=1)"
   ]
  },
  {
   "cell_type": "code",
   "execution_count": 18,
   "metadata": {
    "colab": {
     "base_uri": "https://localhost:8080/"
    },
    "id": "s8cdjUJ2lwo0",
    "outputId": "b3193725-ea64-4398-b1ea-3f757de397a1"
   },
   "outputs": [
    {
     "data": {
      "text/plain": [
       "((233, 15), (233,), (59, 15), (59,))"
      ]
     },
     "execution_count": 18,
     "metadata": {},
     "output_type": "execute_result"
    }
   ],
   "source": [
    "X_train.shape, y_train.shape, X_test.shape, y_test.shape"
   ]
  },
  {
   "cell_type": "code",
   "execution_count": 37,
   "metadata": {
    "id": "IAEYg0KImAYP"
   },
   "outputs": [],
   "source": [
    "def evaluate_model(y_pred, y_true):\n",
    "    print(classification_report(y_true, y_pred))\n",
    "    tn, fp, fn, tp = confusion_matrix(y_true, y_pred).ravel()\n",
    "    print(f'Confusion matrix: TP={tp}, TN={tn}, FP={fp}, FN={fn}')"
   ]
  },
  {
   "cell_type": "markdown",
   "metadata": {
    "id": "AW_O3PUyIVY4"
   },
   "source": [
    "### Random Forest"
   ]
  },
  {
   "cell_type": "code",
   "execution_count": 38,
   "metadata": {
    "colab": {
     "base_uri": "https://localhost:8080/"
    },
    "id": "tSvDLDvvIcqE",
    "outputId": "62faa9b5-d985-454b-9a58-1a66010ee6cf"
   },
   "outputs": [
    {
     "name": "stdout",
     "output_type": "stream",
     "text": [
      "              precision    recall  f1-score   support\n",
      "\n",
      "         0.0       1.00      0.97      0.99        38\n",
      "         1.0       0.95      1.00      0.98        21\n",
      "\n",
      "    accuracy                           0.98        59\n",
      "   macro avg       0.98      0.99      0.98        59\n",
      "weighted avg       0.98      0.98      0.98        59\n",
      "\n",
      "Confusion matrix: TP=21, TN=37, FP=1, FN=0\n"
     ]
    }
   ],
   "source": [
    "model_rf = RandomForestClassifier(random_state=random_seed)\n",
    "\n",
    "model_rf.fit(X_train, y_train)\n",
    "y_rf = model_rf.predict(X_test)\n",
    "\n",
    "evaluate_model(y_test, y_rf)"
   ]
  },
  {
   "cell_type": "code",
   "execution_count": 48,
   "metadata": {
    "colab": {
     "base_uri": "https://localhost:8080/",
     "height": 514
    },
    "id": "xpMkkxyanpK6",
    "outputId": "e375f651-de6e-42ba-b35c-94ab4b48554a"
   },
   "outputs": [
    {
     "data": {
      "text/html": [
       "<div>\n",
       "<style scoped>\n",
       "    .dataframe tbody tr th:only-of-type {\n",
       "        vertical-align: middle;\n",
       "    }\n",
       "\n",
       "    .dataframe tbody tr th {\n",
       "        vertical-align: top;\n",
       "    }\n",
       "\n",
       "    .dataframe thead th {\n",
       "        text-align: right;\n",
       "    }\n",
       "</style>\n",
       "<table border=\"1\" class=\"dataframe\">\n",
       "  <thead>\n",
       "    <tr style=\"text-align: right;\">\n",
       "      <th></th>\n",
       "      <th>feature_name</th>\n",
       "      <th>feature_importance</th>\n",
       "    </tr>\n",
       "  </thead>\n",
       "  <tbody>\n",
       "    <tr>\n",
       "      <th>4</th>\n",
       "      <td>bot_in_name</td>\n",
       "      <td>0.500404</td>\n",
       "    </tr>\n",
       "    <tr>\n",
       "      <th>6</th>\n",
       "      <td>edit</td>\n",
       "      <td>0.093047</td>\n",
       "    </tr>\n",
       "    <tr>\n",
       "      <th>9</th>\n",
       "      <td>len_comment_min</td>\n",
       "      <td>0.057794</td>\n",
       "    </tr>\n",
       "    <tr>\n",
       "      <th>12</th>\n",
       "      <td>alnum_ratio_comment_avg</td>\n",
       "      <td>0.048829</td>\n",
       "    </tr>\n",
       "    <tr>\n",
       "      <th>3</th>\n",
       "      <td>uniq_char_ratio_name</td>\n",
       "      <td>0.044282</td>\n",
       "    </tr>\n",
       "    <tr>\n",
       "      <th>10</th>\n",
       "      <td>alnum_ratio_comment_mix</td>\n",
       "      <td>0.043221</td>\n",
       "    </tr>\n",
       "    <tr>\n",
       "      <th>13</th>\n",
       "      <td>len_comment_max</td>\n",
       "      <td>0.037686</td>\n",
       "    </tr>\n",
       "    <tr>\n",
       "      <th>1</th>\n",
       "      <td>n_digits_name</td>\n",
       "      <td>0.034467</td>\n",
       "    </tr>\n",
       "    <tr>\n",
       "      <th>14</th>\n",
       "      <td>alnum_ratio_comment_max</td>\n",
       "      <td>0.034310</td>\n",
       "    </tr>\n",
       "    <tr>\n",
       "      <th>11</th>\n",
       "      <td>len_comment_avg</td>\n",
       "      <td>0.033953</td>\n",
       "    </tr>\n",
       "    <tr>\n",
       "      <th>2</th>\n",
       "      <td>lead_digits_name</td>\n",
       "      <td>0.023483</td>\n",
       "    </tr>\n",
       "    <tr>\n",
       "      <th>5</th>\n",
       "      <td>categorize</td>\n",
       "      <td>0.016965</td>\n",
       "    </tr>\n",
       "    <tr>\n",
       "      <th>0</th>\n",
       "      <td>requests</td>\n",
       "      <td>0.015140</td>\n",
       "    </tr>\n",
       "    <tr>\n",
       "      <th>8</th>\n",
       "      <td>new</td>\n",
       "      <td>0.012652</td>\n",
       "    </tr>\n",
       "    <tr>\n",
       "      <th>7</th>\n",
       "      <td>log</td>\n",
       "      <td>0.003768</td>\n",
       "    </tr>\n",
       "  </tbody>\n",
       "</table>\n",
       "</div>"
      ],
      "text/plain": [
       "               feature_name  feature_importance\n",
       "4               bot_in_name            0.500404\n",
       "6                      edit            0.093047\n",
       "9           len_comment_min            0.057794\n",
       "12  alnum_ratio_comment_avg            0.048829\n",
       "3      uniq_char_ratio_name            0.044282\n",
       "10  alnum_ratio_comment_mix            0.043221\n",
       "13          len_comment_max            0.037686\n",
       "1             n_digits_name            0.034467\n",
       "14  alnum_ratio_comment_max            0.034310\n",
       "11          len_comment_avg            0.033953\n",
       "2          lead_digits_name            0.023483\n",
       "5                categorize            0.016965\n",
       "0                  requests            0.015140\n",
       "8                       new            0.012652\n",
       "7                       log            0.003768"
      ]
     },
     "execution_count": 48,
     "metadata": {},
     "output_type": "execute_result"
    }
   ],
   "source": [
    "feature_importance = pd.DataFrame(model_rf.feature_importances_, X_train.columns).reset_index()\n",
    "feature_importance.columns = ['feature_name', 'feature_importance']\n",
    "feature_importance.sort_values('feature_importance', ascending=False)"
   ]
  },
  {
   "cell_type": "code",
   "execution_count": 52,
   "metadata": {
    "colab": {
     "base_uri": "https://localhost:8080/"
    },
    "id": "mNJle-M_opTm",
    "outputId": "487e1a29-d0a3-445a-caf1-0be307b83308"
   },
   "outputs": [
    {
     "name": "stdout",
     "output_type": "stream",
     "text": [
      "CPU times: user 12min 47s, sys: 3.31 s, total: 12min 50s\n",
      "Wall time: 12min 49s\n"
     ]
    }
   ],
   "source": [
    "%%time\n",
    "params_rf = {\n",
    "    'bootstrap': [True, False],\n",
    "    'max_depth': [10, 20, 50, None],\n",
    "    'max_features': ['auto', 'sqrt'],\n",
    "    'min_samples_leaf': [1, 2, 4],\n",
    "    'min_samples_split': [2, 5, 10],\n",
    "    'n_estimators': [100, 200, 500],\n",
    "    }\n",
    "\n",
    "grid = GridSearchCV(estimator=model_rf, param_grid=params_rf, cv = 5, scoring='f1')\n",
    "grid.fit(X_train, y_train)"
   ]
  },
  {
   "cell_type": "code",
   "execution_count": 54,
   "metadata": {
    "colab": {
     "base_uri": "https://localhost:8080/"
    },
    "id": "vI3Um0KTzZIl",
    "outputId": "ea13f83a-8da1-4541-d65a-8df3d049e310"
   },
   "outputs": [
    {
     "data": {
      "text/plain": [
       "{'bootstrap': True,\n",
       " 'max_depth': 10,\n",
       " 'max_features': 'auto',\n",
       " 'min_samples_leaf': 1,\n",
       " 'min_samples_split': 2,\n",
       " 'n_estimators': 100}"
      ]
     },
     "execution_count": 54,
     "metadata": {},
     "output_type": "execute_result"
    }
   ],
   "source": [
    "grid.best_params_"
   ]
  },
  {
   "cell_type": "code",
   "execution_count": 55,
   "metadata": {
    "colab": {
     "base_uri": "https://localhost:8080/"
    },
    "id": "qNaHwPWDo5nj",
    "outputId": "7c04559d-0c3a-41bb-ceb7-060e11548393"
   },
   "outputs": [
    {
     "name": "stdout",
     "output_type": "stream",
     "text": [
      "              precision    recall  f1-score   support\n",
      "\n",
      "         0.0       1.00      0.97      0.99        38\n",
      "         1.0       0.95      1.00      0.98        21\n",
      "\n",
      "    accuracy                           0.98        59\n",
      "   macro avg       0.98      0.99      0.98        59\n",
      "weighted avg       0.98      0.98      0.98        59\n",
      "\n",
      "Confusion matrix: TP=21, TN=37, FP=1, FN=0\n"
     ]
    }
   ],
   "source": [
    "y_rf = grid.best_estimator_.predict(X_test)\n",
    "\n",
    "evaluate_model(y_test, y_rf)"
   ]
  },
  {
   "cell_type": "markdown",
   "metadata": {
    "id": "OC5YlK13o_xW"
   },
   "source": [
    "### XGBoost"
   ]
  },
  {
   "cell_type": "code",
   "execution_count": 56,
   "metadata": {
    "colab": {
     "base_uri": "https://localhost:8080/"
    },
    "id": "SxUtrkE8eIAB",
    "outputId": "68865cf6-30e7-4259-e302-db5fd39b726d"
   },
   "outputs": [
    {
     "name": "stdout",
     "output_type": "stream",
     "text": [
      "              precision    recall  f1-score   support\n",
      "\n",
      "         0.0       1.00      0.97      0.99        38\n",
      "         1.0       0.95      1.00      0.98        21\n",
      "\n",
      "    accuracy                           0.98        59\n",
      "   macro avg       0.98      0.99      0.98        59\n",
      "weighted avg       0.98      0.98      0.98        59\n",
      "\n",
      "Confusion matrix: TP=21, TN=37, FP=1, FN=0\n"
     ]
    }
   ],
   "source": [
    "model_xgb = xgb.XGBClassifier(random_state=random_seed)\n",
    "\n",
    "model_xgb.fit(X_train, y_train)\n",
    "y_xgb = model_xgb.predict(X_test)\n",
    "\n",
    "evaluate_model(y_test, y_xgb)"
   ]
  },
  {
   "cell_type": "code",
   "execution_count": 57,
   "metadata": {
    "colab": {
     "base_uri": "https://localhost:8080/",
     "height": 514
    },
    "id": "9SwiAqVZpkIX",
    "outputId": "f1d0792c-7ce4-43d6-ec5f-eb0a399da339"
   },
   "outputs": [
    {
     "data": {
      "text/html": [
       "<div>\n",
       "<style scoped>\n",
       "    .dataframe tbody tr th:only-of-type {\n",
       "        vertical-align: middle;\n",
       "    }\n",
       "\n",
       "    .dataframe tbody tr th {\n",
       "        vertical-align: top;\n",
       "    }\n",
       "\n",
       "    .dataframe thead th {\n",
       "        text-align: right;\n",
       "    }\n",
       "</style>\n",
       "<table border=\"1\" class=\"dataframe\">\n",
       "  <thead>\n",
       "    <tr style=\"text-align: right;\">\n",
       "      <th></th>\n",
       "      <th>feature_name</th>\n",
       "      <th>feature_importance</th>\n",
       "    </tr>\n",
       "  </thead>\n",
       "  <tbody>\n",
       "    <tr>\n",
       "      <th>4</th>\n",
       "      <td>bot_in_name</td>\n",
       "      <td>0.781877</td>\n",
       "    </tr>\n",
       "    <tr>\n",
       "      <th>6</th>\n",
       "      <td>edit</td>\n",
       "      <td>0.035039</td>\n",
       "    </tr>\n",
       "    <tr>\n",
       "      <th>1</th>\n",
       "      <td>n_digits_name</td>\n",
       "      <td>0.034883</td>\n",
       "    </tr>\n",
       "    <tr>\n",
       "      <th>9</th>\n",
       "      <td>len_comment_min</td>\n",
       "      <td>0.026699</td>\n",
       "    </tr>\n",
       "    <tr>\n",
       "      <th>14</th>\n",
       "      <td>alnum_ratio_comment_max</td>\n",
       "      <td>0.022945</td>\n",
       "    </tr>\n",
       "    <tr>\n",
       "      <th>3</th>\n",
       "      <td>uniq_char_ratio_name</td>\n",
       "      <td>0.019672</td>\n",
       "    </tr>\n",
       "    <tr>\n",
       "      <th>11</th>\n",
       "      <td>len_comment_avg</td>\n",
       "      <td>0.014455</td>\n",
       "    </tr>\n",
       "    <tr>\n",
       "      <th>8</th>\n",
       "      <td>new</td>\n",
       "      <td>0.013094</td>\n",
       "    </tr>\n",
       "    <tr>\n",
       "      <th>13</th>\n",
       "      <td>len_comment_max</td>\n",
       "      <td>0.012898</td>\n",
       "    </tr>\n",
       "    <tr>\n",
       "      <th>0</th>\n",
       "      <td>requests</td>\n",
       "      <td>0.011307</td>\n",
       "    </tr>\n",
       "    <tr>\n",
       "      <th>5</th>\n",
       "      <td>categorize</td>\n",
       "      <td>0.010804</td>\n",
       "    </tr>\n",
       "    <tr>\n",
       "      <th>12</th>\n",
       "      <td>alnum_ratio_comment_avg</td>\n",
       "      <td>0.008304</td>\n",
       "    </tr>\n",
       "    <tr>\n",
       "      <th>10</th>\n",
       "      <td>alnum_ratio_comment_mix</td>\n",
       "      <td>0.008024</td>\n",
       "    </tr>\n",
       "    <tr>\n",
       "      <th>2</th>\n",
       "      <td>lead_digits_name</td>\n",
       "      <td>0.000000</td>\n",
       "    </tr>\n",
       "    <tr>\n",
       "      <th>7</th>\n",
       "      <td>log</td>\n",
       "      <td>0.000000</td>\n",
       "    </tr>\n",
       "  </tbody>\n",
       "</table>\n",
       "</div>"
      ],
      "text/plain": [
       "               feature_name  feature_importance\n",
       "4               bot_in_name            0.781877\n",
       "6                      edit            0.035039\n",
       "1             n_digits_name            0.034883\n",
       "9           len_comment_min            0.026699\n",
       "14  alnum_ratio_comment_max            0.022945\n",
       "3      uniq_char_ratio_name            0.019672\n",
       "11          len_comment_avg            0.014455\n",
       "8                       new            0.013094\n",
       "13          len_comment_max            0.012898\n",
       "0                  requests            0.011307\n",
       "5                categorize            0.010804\n",
       "12  alnum_ratio_comment_avg            0.008304\n",
       "10  alnum_ratio_comment_mix            0.008024\n",
       "2          lead_digits_name            0.000000\n",
       "7                       log            0.000000"
      ]
     },
     "execution_count": 57,
     "metadata": {},
     "output_type": "execute_result"
    }
   ],
   "source": [
    "feature_importance = pd.DataFrame(model_xgb.feature_importances_, X_train.columns).reset_index()\n",
    "feature_importance.columns = ['feature_name', 'feature_importance']\n",
    "feature_importance.sort_values('feature_importance', ascending=False)"
   ]
  },
  {
   "cell_type": "code",
   "execution_count": 58,
   "metadata": {
    "colab": {
     "base_uri": "https://localhost:8080/"
    },
    "id": "AqWLVWNZJbdm",
    "outputId": "2833f64e-9368-47f7-aa40-2866aec582fe"
   },
   "outputs": [
    {
     "name": "stdout",
     "output_type": "stream",
     "text": [
      "CPU times: user 48.7 s, sys: 1.07 s, total: 49.7 s\n",
      "Wall time: 49.8 s\n"
     ]
    }
   ],
   "source": [
    "%%time\n",
    "params_xgb = {\n",
    "    'model__max_depth': [3, 5, 7, 8, 10],\n",
    "    'model__n_estimators': [3, 5, 10, 100],\n",
    "    'learning_rate': [0.001, 0.1, 0.03, 0.05, 0.08],\n",
    "    'colsample_bytree': [0.7, 0.5],\n",
    "    'subsample': [0.6, 0.5]\n",
    "}\n",
    "\n",
    "grid = GridSearchCV(estimator=model_xgb, param_grid=params_xgb, cv = 5, scoring='f1')\n",
    "grid.fit(X_train, y_train)"
   ]
  },
  {
   "cell_type": "code",
   "execution_count": 59,
   "metadata": {
    "colab": {
     "base_uri": "https://localhost:8080/"
    },
    "id": "bK0f2zglzsKG",
    "outputId": "e793fcaf-7ac0-4cdc-9adc-f20d26a51c83"
   },
   "outputs": [
    {
     "data": {
      "text/plain": [
       "{'colsample_bytree': 0.7,\n",
       " 'learning_rate': 0.001,\n",
       " 'model__max_depth': 3,\n",
       " 'model__n_estimators': 3,\n",
       " 'subsample': 0.6}"
      ]
     },
     "execution_count": 59,
     "metadata": {},
     "output_type": "execute_result"
    }
   ],
   "source": [
    "grid.best_params_"
   ]
  },
  {
   "cell_type": "code",
   "execution_count": 60,
   "metadata": {
    "colab": {
     "base_uri": "https://localhost:8080/"
    },
    "id": "zLPoZM7LsbvH",
    "outputId": "9521e50d-3088-4e81-9d7c-fa98b746fd31"
   },
   "outputs": [
    {
     "name": "stdout",
     "output_type": "stream",
     "text": [
      "              precision    recall  f1-score   support\n",
      "\n",
      "         0.0       1.00      0.97      0.99        38\n",
      "         1.0       0.95      1.00      0.98        21\n",
      "\n",
      "    accuracy                           0.98        59\n",
      "   macro avg       0.98      0.99      0.98        59\n",
      "weighted avg       0.98      0.98      0.98        59\n",
      "\n",
      "Confusion matrix: TP=21, TN=37, FP=1, FN=0\n"
     ]
    }
   ],
   "source": [
    "y_xgb = grid.best_estimator_.predict(X_test)\n",
    "\n",
    "evaluate_model(y_test, y_xgb)"
   ]
  },
  {
   "cell_type": "markdown",
   "metadata": {
    "id": "YALLfYdGqOzz"
   },
   "source": [
    "## Pickle best model"
   ]
  },
  {
   "cell_type": "code",
   "execution_count": 62,
   "metadata": {
    "colab": {
     "base_uri": "https://localhost:8080/"
    },
    "id": "Ey8r8LiS0Q0P",
    "outputId": "9e31a7db-d8f5-4318-ce37-3b6a0225cf40"
   },
   "outputs": [
    {
     "name": "stdout",
     "output_type": "stream",
     "text": [
      "              precision    recall  f1-score   support\n",
      "\n",
      "         0.0       1.00      0.97      0.99        38\n",
      "         1.0       0.95      1.00      0.98        21\n",
      "\n",
      "    accuracy                           0.98        59\n",
      "   macro avg       0.98      0.99      0.98        59\n",
      "weighted avg       0.98      0.98      0.98        59\n",
      "\n",
      "Confusion matrix: TP=21, TN=37, FP=1, FN=0\n"
     ]
    }
   ],
   "source": [
    "model_rf = RandomForestClassifier(random_state=random_seed,\n",
    "                                  bootstrap=True,\n",
    "                                  max_depth=10,\n",
    "                                  max_features='auto',\n",
    "                                  min_samples_leaf=1,\n",
    "                                  min_samples_split=2,\n",
    "                                  n_estimators=100)\n",
    "\n",
    "model_rf.fit(X_train, y_train)\n",
    "y_rf = model_rf.predict(X_test)\n",
    "\n",
    "evaluate_model(y_test, y_rf)"
   ]
  },
  {
   "cell_type": "code",
   "execution_count": 65,
   "metadata": {
    "id": "4OTxuxBnyWWh"
   },
   "outputs": [],
   "source": [
    "os.makedirs('model', exist_ok=True)\n",
    "\n",
    "filename = '../model/best_model.sav'\n",
    "pickle.dump(model_rf, open(filename, 'wb'))"
   ]
  },
  {
   "cell_type": "markdown",
   "metadata": {
    "id": "kkLjL2iz_M_7"
   },
   "source": [
    "# Feature Extraction in one function"
   ]
  },
  {
   "cell_type": "code",
   "execution_count": null,
   "metadata": {
    "id": "2wbwZ7iV06pC"
   },
   "outputs": [],
   "source": [
    "def feature_extraction(datafile):\n",
    "    if datafile.endswith('.gz'):\n",
    "        df = pd.read_csv(datafile, sep='\\t', compression='gzip',)\n",
    "    else:\n",
    "        df = pd.read_csv(datafile, sep='\\t',)\n",
    "    short_df = df[['timestamp', 'user', 'bot', 'type', 'comment']].copy()\n",
    "    short_df.dropna(inplace=True)\n",
    "    short_df['timestamp'] = pd.to_datetime(short_df['timestamp'].loc[:], unit='s')\n",
    "    short_df = short_df.assign(requests=1)\n",
    "    user_df = short_df.set_index('timestamp').groupby('user')[['bot','requests',]].resample(\"1S\", label='right').sum()\n",
    "    user_df['bot'] = [1 if x > 0.5 else 0 for x in user_df['bot']]\n",
    "    user_df = user_df.reset_index()\n",
    "    user_df = user_df[user_df['requests'] != 0]\n",
    "    user_df = user_df.groupby('user', as_index=False)[['bot','requests']].mean()\n",
    "    user_df['bot'] = user_df['bot'].astype(int)\n",
    "    def count_digits(string): return sum(c.isdigit() for c in string)\n",
    "    user_df['n_digits_name'] = user_df['user'].apply(count_digits)\n",
    "    find_lead_digits = lambda name: len(re.findall('^\\d+', name)[0]) if name[0].isdigit() else 0\n",
    "    user_df['lead_digits_name'] = user_df['user'].apply(find_lead_digits)\n",
    "    def unique_ratio(string): return (len(set(string)) / len(string))\n",
    "    user_df['uniq_char_ratio_name'] = user_df['user'].apply(unique_ratio)\n",
    "    user_df['uniq_char_ratio_name'] = user_df['uniq_char_ratio_name'].round(3)\n",
    "    user_df['bot_in_name'] = (user_df['user'].str.lower().str.contains('bot')).astype(int)\n",
    "    dummies_df = short_df.join(short_df['type'].str.get_dummies())\n",
    "    dummies_df = dummies_df.groupby('user').sum()\n",
    "    dummies_df = dummies_df.drop(['bot', 'requests'], axis=1).reset_index()\n",
    "    dummies_df = dummies_df.drop('142',axis=1)\n",
    "    comment_df = short_df[['user', 'comment']]\n",
    "    comment_df['len_comment'] = comment_df['comment'].str.len()\n",
    "    def find_alnum_num(name):\n",
    "        for el in name:\n",
    "            if type(el) != str:\n",
    "                return 0\n",
    "            else:\n",
    "                return sum(el.isalnum() for el in name)\n",
    "    comment_df['alnum_ratio_comment'] = comment_df['comment'].astype(\"str\").apply(find_alnum_num)/comment_df['comment'].str.len()\n",
    "    comment_df['bot_in_comment'] = (comment_df['comment'].str.lower().str.contains('bot'))\n",
    "    comment_df = comment_df.drop('bot_in_comment', axis=1)\n",
    "    mean_df = comment_df.groupby('user').mean().rename(columns={'len_comment':'len_comment_avg', 'alnum_ratio_comment':'alnum_ratio_comment_avg'})\n",
    "    min_df = comment_df.groupby('user').min().rename(columns={'len_comment':'len_comment_min', 'alnum_ratio_comment':'alnum_ratio_comment_mix'})\n",
    "    max_df = comment_df.groupby('user').max().rename(columns={'len_comment':'len_comment_max', 'alnum_ratio_comment':'alnum_ratio_comment_max'})\n",
    "    user_df = user_df.merge(dummies_df, on='user', how='outer')\n",
    "    user_df = user_df.merge(min_df, on='user', how='outer')\n",
    "    user_df = user_df.merge(mean_df, on='user', how='outer')\n",
    "    user_df = user_df.merge(max_df, on='user', how='outer')\n",
    "    user_df.drop(['comment_x', 'comment_y'], axis=1, inplace=True)\n",
    "    return user_df"
   ]
  },
  {
   "cell_type": "code",
   "execution_count": null,
   "metadata": {},
   "outputs": [],
   "source": []
  }
 ],
 "metadata": {
  "colab": {
   "collapsed_sections": [],
   "name": "wiki-bots-classification.ipynb",
   "provenance": []
  },
  "kernelspec": {
   "display_name": "Python 3 (ipykernel)",
   "language": "python",
   "name": "python3"
  },
  "language_info": {
   "codemirror_mode": {
    "name": "ipython",
    "version": 3
   },
   "file_extension": ".py",
   "mimetype": "text/x-python",
   "name": "python",
   "nbconvert_exporter": "python",
   "pygments_lexer": "ipython3",
   "version": "3.8.10"
  }
 },
 "nbformat": 4,
 "nbformat_minor": 1
}
