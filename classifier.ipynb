{
  "nbformat": 4,
  "nbformat_minor": 0,
  "metadata": {
    "colab": {
      "name": "classifier.ipynb",
      "provenance": [],
      "collapsed_sections": []
    },
    "kernelspec": {
      "name": "python3",
      "display_name": "Python 3"
    },
    "language_info": {
      "name": "python"
    }
  },
  "cells": [
    {
      "cell_type": "markdown",
      "metadata": {
        "id": "M-q8pY1mGSfW"
      },
      "source": [
        "# Load data, Split into train and test"
      ]
    },
    {
      "cell_type": "code",
      "metadata": {
        "id": "p3Y2U3nFqCkD"
      },
      "source": [
        "import pandas as pd\n",
        "import numpy as np\n",
        "from sklearn.model_selection import train_test_split"
      ],
      "execution_count": 19,
      "outputs": []
    },
    {
      "cell_type": "code",
      "metadata": {
        "id": "jNOQHmHBHNkF"
      },
      "source": [
        "data_2 = pd.read_csv('/content/data-2.csv')"
      ],
      "execution_count": 29,
      "outputs": []
    },
    {
      "cell_type": "code",
      "metadata": {
        "colab": {
          "base_uri": "https://localhost:8080/",
          "height": 504
        },
        "id": "FH5O0MRdHW0i",
        "outputId": "20100bfa-cef6-47f9-ed11-33ee9993e37c"
      },
      "source": [
        "data_2.head()"
      ],
      "execution_count": 30,
      "outputs": [
        {
          "output_type": "execute_result",
          "data": {
            "text/html": [
              "<div>\n",
              "<style scoped>\n",
              "    .dataframe tbody tr th:only-of-type {\n",
              "        vertical-align: middle;\n",
              "    }\n",
              "\n",
              "    .dataframe tbody tr th {\n",
              "        vertical-align: top;\n",
              "    }\n",
              "\n",
              "    .dataframe thead th {\n",
              "        text-align: right;\n",
              "    }\n",
              "</style>\n",
              "<table border=\"1\" class=\"dataframe\">\n",
              "  <thead>\n",
              "    <tr style=\"text-align: right;\">\n",
              "      <th></th>\n",
              "      <th>Unnamed: 0</th>\n",
              "      <th>$schema</th>\n",
              "      <th>meta</th>\n",
              "      <th>id</th>\n",
              "      <th>type</th>\n",
              "      <th>namespace</th>\n",
              "      <th>title</th>\n",
              "      <th>comment</th>\n",
              "      <th>timestamp</th>\n",
              "      <th>user</th>\n",
              "      <th>log_id</th>\n",
              "      <th>log_type</th>\n",
              "      <th>log_action</th>\n",
              "      <th>log_params</th>\n",
              "      <th>log_action_comment</th>\n",
              "      <th>server_url</th>\n",
              "      <th>server_name</th>\n",
              "      <th>server_script_path</th>\n",
              "      <th>wiki</th>\n",
              "      <th>parsedcomment</th>\n",
              "      <th>minor</th>\n",
              "      <th>patrolled</th>\n",
              "      <th>length</th>\n",
              "      <th>revision</th>\n",
              "      <th>bot</th>\n",
              "    </tr>\n",
              "  </thead>\n",
              "  <tbody>\n",
              "    <tr>\n",
              "      <th>0</th>\n",
              "      <td>0</td>\n",
              "      <td>/mediawiki/recentchange/1.0.0</td>\n",
              "      <td>{'uri': 'https://en.wikipedia.org/wiki/User:41...</td>\n",
              "      <td>1.430187e+09</td>\n",
              "      <td>log</td>\n",
              "      <td>2</td>\n",
              "      <td>User:41.155.9.82</td>\n",
              "      <td>{{blocked p2p proxy|ip=41.155.9.82|isp=Fixed-B...</td>\n",
              "      <td>1633526855</td>\n",
              "      <td>ST47ProxyBot</td>\n",
              "      <td>122426220.0</td>\n",
              "      <td>block</td>\n",
              "      <td>block</td>\n",
              "      <td>{'duration': '71 hours', 'flags': 'nocreate', ...</td>\n",
              "      <td>blocked User:41.155.9.82 (account creation blo...</td>\n",
              "      <td>https://en.wikipedia.org</td>\n",
              "      <td>en.wikipedia.org</td>\n",
              "      <td>/w</td>\n",
              "      <td>enwiki</td>\n",
              "      <td>{{blocked p2p proxy|ip=41.155.9.82|isp=Fixed-B...</td>\n",
              "      <td>NaN</td>\n",
              "      <td>NaN</td>\n",
              "      <td>NaN</td>\n",
              "      <td>NaN</td>\n",
              "      <td>True</td>\n",
              "    </tr>\n",
              "    <tr>\n",
              "      <th>1</th>\n",
              "      <td>1</td>\n",
              "      <td>/mediawiki/recentchange/1.0.0</td>\n",
              "      <td>{'uri': 'https://www.wikidata.org/wiki/Q174788...</td>\n",
              "      <td>1.556013e+09</td>\n",
              "      <td>edit</td>\n",
              "      <td>0</td>\n",
              "      <td>Q17478814</td>\n",
              "      <td>/* wbsetsitelink-add:1|commonswiki */ Category...</td>\n",
              "      <td>1633526854</td>\n",
              "      <td>Deanlaw</td>\n",
              "      <td>NaN</td>\n",
              "      <td>NaN</td>\n",
              "      <td>NaN</td>\n",
              "      <td>NaN</td>\n",
              "      <td>NaN</td>\n",
              "      <td>https://www.wikidata.org</td>\n",
              "      <td>www.wikidata.org</td>\n",
              "      <td>/w</td>\n",
              "      <td>wikidatawiki</td>\n",
              "      <td>‎&lt;span dir=\"auto\"&gt;&lt;span class=\"autocomment\"&gt;Ad...</td>\n",
              "      <td>False</td>\n",
              "      <td>True</td>\n",
              "      <td>{'old': 18319, 'new': 18449}</td>\n",
              "      <td>{'old': 1447448374, 'new': 1508596930}</td>\n",
              "      <td>False</td>\n",
              "    </tr>\n",
              "    <tr>\n",
              "      <th>2</th>\n",
              "      <td>2</td>\n",
              "      <td>/mediawiki/recentchange/1.0.0</td>\n",
              "      <td>{'uri': 'https://en.wikipedia.org/wiki/User:10...</td>\n",
              "      <td>1.430187e+09</td>\n",
              "      <td>log</td>\n",
              "      <td>2</td>\n",
              "      <td>User:103.108.61.85</td>\n",
              "      <td>{{blocked p2p proxy|ip=103.108.61.85|isp=INCOM...</td>\n",
              "      <td>1633526854</td>\n",
              "      <td>ST47ProxyBot</td>\n",
              "      <td>122426218.0</td>\n",
              "      <td>block</td>\n",
              "      <td>block</td>\n",
              "      <td>{'duration': '71 hours', 'flags': 'nocreate', ...</td>\n",
              "      <td>blocked User:103.108.61.85 (account creation b...</td>\n",
              "      <td>https://en.wikipedia.org</td>\n",
              "      <td>en.wikipedia.org</td>\n",
              "      <td>/w</td>\n",
              "      <td>enwiki</td>\n",
              "      <td>{{blocked p2p proxy|ip=103.108.61.85|isp=INCOM...</td>\n",
              "      <td>NaN</td>\n",
              "      <td>NaN</td>\n",
              "      <td>NaN</td>\n",
              "      <td>NaN</td>\n",
              "      <td>True</td>\n",
              "    </tr>\n",
              "    <tr>\n",
              "      <th>3</th>\n",
              "      <td>3</td>\n",
              "      <td>/mediawiki/recentchange/1.0.0</td>\n",
              "      <td>{'uri': 'https://www.wikidata.org/wiki/Q350193...</td>\n",
              "      <td>1.556013e+09</td>\n",
              "      <td>edit</td>\n",
              "      <td>0</td>\n",
              "      <td>Q3501934</td>\n",
              "      <td>/* wbsetdescription-add:1|yo */ agbábọ́ọ̀lù ọm...</td>\n",
              "      <td>1633526854</td>\n",
              "      <td>T Cells</td>\n",
              "      <td>NaN</td>\n",
              "      <td>NaN</td>\n",
              "      <td>NaN</td>\n",
              "      <td>NaN</td>\n",
              "      <td>NaN</td>\n",
              "      <td>https://www.wikidata.org</td>\n",
              "      <td>www.wikidata.org</td>\n",
              "      <td>/w</td>\n",
              "      <td>wikidatawiki</td>\n",
              "      <td>‎&lt;span dir=\"auto\"&gt;&lt;span class=\"autocomment\"&gt;Ad...</td>\n",
              "      <td>False</td>\n",
              "      <td>True</td>\n",
              "      <td>{'old': 26326, 'new': 26436}</td>\n",
              "      <td>{'old': 1508596926, 'new': 1508596929}</td>\n",
              "      <td>False</td>\n",
              "    </tr>\n",
              "    <tr>\n",
              "      <th>4</th>\n",
              "      <td>4</td>\n",
              "      <td>/mediawiki/recentchange/1.0.0</td>\n",
              "      <td>{'uri': 'https://www.wikidata.org/wiki/Q384910...</td>\n",
              "      <td>1.556013e+09</td>\n",
              "      <td>edit</td>\n",
              "      <td>0</td>\n",
              "      <td>Q38491095</td>\n",
              "      <td>/* wbeditentity-update-languages-short:0||nl *...</td>\n",
              "      <td>1633526854</td>\n",
              "      <td>Edoderoobot</td>\n",
              "      <td>NaN</td>\n",
              "      <td>NaN</td>\n",
              "      <td>NaN</td>\n",
              "      <td>NaN</td>\n",
              "      <td>NaN</td>\n",
              "      <td>https://www.wikidata.org</td>\n",
              "      <td>www.wikidata.org</td>\n",
              "      <td>/w</td>\n",
              "      <td>wikidatawiki</td>\n",
              "      <td>‎&lt;span dir=\"auto\"&gt;&lt;span class=\"autocomment\"&gt;Ch...</td>\n",
              "      <td>False</td>\n",
              "      <td>True</td>\n",
              "      <td>{'old': 61731, 'new': 61919}</td>\n",
              "      <td>{'old': 1427172934, 'new': 1508596931}</td>\n",
              "      <td>True</td>\n",
              "    </tr>\n",
              "  </tbody>\n",
              "</table>\n",
              "</div>"
            ],
            "text/plain": [
              "   Unnamed: 0  ...    bot\n",
              "0           0  ...   True\n",
              "1           1  ...  False\n",
              "2           2  ...   True\n",
              "3           3  ...  False\n",
              "4           4  ...   True\n",
              "\n",
              "[5 rows x 25 columns]"
            ]
          },
          "metadata": {},
          "execution_count": 30
        }
      ]
    },
    {
      "cell_type": "code",
      "metadata": {
        "id": "lNt1aCuLsY-I"
      },
      "source": [
        "data_2['target'] = data_2['bot'].astype(int)"
      ],
      "execution_count": 31,
      "outputs": []
    },
    {
      "cell_type": "code",
      "metadata": {
        "id": "gepgS4tYs2rv"
      },
      "source": [
        "data_2['n_digits_name'] = sum(c.isdigit() for c in data_2['user'])\n",
        "data_2['digit_ratio_name'] = data_2['n_digits_name']/len(data_2['user'])\n",
        "find_lead_digits = lambda name: len(re.findall('^\\d+', name)[0]) if name[0].isdigit() else 0\n",
        "data_2['lead_digits_name'] = data_2['user'].apply(find_lead_digits)\n",
        "data_2['uniq_char_ratio_name'] = len(set(c.isalpha() for c in data_2['user']))/len(data_2['user'])"
      ],
      "execution_count": 32,
      "outputs": []
    },
    {
      "cell_type": "code",
      "metadata": {
        "colab": {
          "base_uri": "https://localhost:8080/"
        },
        "id": "uxR8OOy9iokE",
        "outputId": "73d73584-1486-4065-d6e8-0f962e77e0b1"
      },
      "source": [
        "data_2.columns"
      ],
      "execution_count": 33,
      "outputs": [
        {
          "output_type": "execute_result",
          "data": {
            "text/plain": [
              "Index(['Unnamed: 0', '$schema', 'meta', 'id', 'type', 'namespace', 'title',\n",
              "       'comment', 'timestamp', 'user', 'log_id', 'log_type', 'log_action',\n",
              "       'log_params', 'log_action_comment', 'server_url', 'server_name',\n",
              "       'server_script_path', 'wiki', 'parsedcomment', 'minor', 'patrolled',\n",
              "       'length', 'revision', 'bot', 'target', 'n_digits_name',\n",
              "       'digit_ratio_name', 'lead_digits_name', 'uniq_char_ratio_name'],\n",
              "      dtype='object')"
            ]
          },
          "metadata": {},
          "execution_count": 33
        }
      ]
    },
    {
      "cell_type": "code",
      "metadata": {
        "colab": {
          "base_uri": "https://localhost:8080/",
          "height": 504
        },
        "id": "6LLbAZISCC7A",
        "outputId": "89367380-911c-4e91-f63a-e53c3042964f"
      },
      "source": [
        "data_2.head()"
      ],
      "execution_count": 34,
      "outputs": [
        {
          "output_type": "execute_result",
          "data": {
            "text/html": [
              "<div>\n",
              "<style scoped>\n",
              "    .dataframe tbody tr th:only-of-type {\n",
              "        vertical-align: middle;\n",
              "    }\n",
              "\n",
              "    .dataframe tbody tr th {\n",
              "        vertical-align: top;\n",
              "    }\n",
              "\n",
              "    .dataframe thead th {\n",
              "        text-align: right;\n",
              "    }\n",
              "</style>\n",
              "<table border=\"1\" class=\"dataframe\">\n",
              "  <thead>\n",
              "    <tr style=\"text-align: right;\">\n",
              "      <th></th>\n",
              "      <th>Unnamed: 0</th>\n",
              "      <th>$schema</th>\n",
              "      <th>meta</th>\n",
              "      <th>id</th>\n",
              "      <th>type</th>\n",
              "      <th>namespace</th>\n",
              "      <th>title</th>\n",
              "      <th>comment</th>\n",
              "      <th>timestamp</th>\n",
              "      <th>user</th>\n",
              "      <th>log_id</th>\n",
              "      <th>log_type</th>\n",
              "      <th>log_action</th>\n",
              "      <th>log_params</th>\n",
              "      <th>log_action_comment</th>\n",
              "      <th>server_url</th>\n",
              "      <th>server_name</th>\n",
              "      <th>server_script_path</th>\n",
              "      <th>wiki</th>\n",
              "      <th>parsedcomment</th>\n",
              "      <th>minor</th>\n",
              "      <th>patrolled</th>\n",
              "      <th>length</th>\n",
              "      <th>revision</th>\n",
              "      <th>bot</th>\n",
              "      <th>target</th>\n",
              "      <th>n_digits_name</th>\n",
              "      <th>digit_ratio_name</th>\n",
              "      <th>lead_digits_name</th>\n",
              "      <th>uniq_char_ratio_name</th>\n",
              "    </tr>\n",
              "  </thead>\n",
              "  <tbody>\n",
              "    <tr>\n",
              "      <th>0</th>\n",
              "      <td>0</td>\n",
              "      <td>/mediawiki/recentchange/1.0.0</td>\n",
              "      <td>{'uri': 'https://en.wikipedia.org/wiki/User:41...</td>\n",
              "      <td>1.430187e+09</td>\n",
              "      <td>log</td>\n",
              "      <td>2</td>\n",
              "      <td>User:41.155.9.82</td>\n",
              "      <td>{{blocked p2p proxy|ip=41.155.9.82|isp=Fixed-B...</td>\n",
              "      <td>1633526855</td>\n",
              "      <td>ST47ProxyBot</td>\n",
              "      <td>122426220.0</td>\n",
              "      <td>block</td>\n",
              "      <td>block</td>\n",
              "      <td>{'duration': '71 hours', 'flags': 'nocreate', ...</td>\n",
              "      <td>blocked User:41.155.9.82 (account creation blo...</td>\n",
              "      <td>https://en.wikipedia.org</td>\n",
              "      <td>en.wikipedia.org</td>\n",
              "      <td>/w</td>\n",
              "      <td>enwiki</td>\n",
              "      <td>{{blocked p2p proxy|ip=41.155.9.82|isp=Fixed-B...</td>\n",
              "      <td>NaN</td>\n",
              "      <td>NaN</td>\n",
              "      <td>NaN</td>\n",
              "      <td>NaN</td>\n",
              "      <td>True</td>\n",
              "      <td>1</td>\n",
              "      <td>0</td>\n",
              "      <td>0.0</td>\n",
              "      <td>0</td>\n",
              "      <td>0.066667</td>\n",
              "    </tr>\n",
              "    <tr>\n",
              "      <th>1</th>\n",
              "      <td>1</td>\n",
              "      <td>/mediawiki/recentchange/1.0.0</td>\n",
              "      <td>{'uri': 'https://www.wikidata.org/wiki/Q174788...</td>\n",
              "      <td>1.556013e+09</td>\n",
              "      <td>edit</td>\n",
              "      <td>0</td>\n",
              "      <td>Q17478814</td>\n",
              "      <td>/* wbsetsitelink-add:1|commonswiki */ Category...</td>\n",
              "      <td>1633526854</td>\n",
              "      <td>Deanlaw</td>\n",
              "      <td>NaN</td>\n",
              "      <td>NaN</td>\n",
              "      <td>NaN</td>\n",
              "      <td>NaN</td>\n",
              "      <td>NaN</td>\n",
              "      <td>https://www.wikidata.org</td>\n",
              "      <td>www.wikidata.org</td>\n",
              "      <td>/w</td>\n",
              "      <td>wikidatawiki</td>\n",
              "      <td>‎&lt;span dir=\"auto\"&gt;&lt;span class=\"autocomment\"&gt;Ad...</td>\n",
              "      <td>False</td>\n",
              "      <td>True</td>\n",
              "      <td>{'old': 18319, 'new': 18449}</td>\n",
              "      <td>{'old': 1447448374, 'new': 1508596930}</td>\n",
              "      <td>False</td>\n",
              "      <td>0</td>\n",
              "      <td>0</td>\n",
              "      <td>0.0</td>\n",
              "      <td>0</td>\n",
              "      <td>0.066667</td>\n",
              "    </tr>\n",
              "    <tr>\n",
              "      <th>2</th>\n",
              "      <td>2</td>\n",
              "      <td>/mediawiki/recentchange/1.0.0</td>\n",
              "      <td>{'uri': 'https://en.wikipedia.org/wiki/User:10...</td>\n",
              "      <td>1.430187e+09</td>\n",
              "      <td>log</td>\n",
              "      <td>2</td>\n",
              "      <td>User:103.108.61.85</td>\n",
              "      <td>{{blocked p2p proxy|ip=103.108.61.85|isp=INCOM...</td>\n",
              "      <td>1633526854</td>\n",
              "      <td>ST47ProxyBot</td>\n",
              "      <td>122426218.0</td>\n",
              "      <td>block</td>\n",
              "      <td>block</td>\n",
              "      <td>{'duration': '71 hours', 'flags': 'nocreate', ...</td>\n",
              "      <td>blocked User:103.108.61.85 (account creation b...</td>\n",
              "      <td>https://en.wikipedia.org</td>\n",
              "      <td>en.wikipedia.org</td>\n",
              "      <td>/w</td>\n",
              "      <td>enwiki</td>\n",
              "      <td>{{blocked p2p proxy|ip=103.108.61.85|isp=INCOM...</td>\n",
              "      <td>NaN</td>\n",
              "      <td>NaN</td>\n",
              "      <td>NaN</td>\n",
              "      <td>NaN</td>\n",
              "      <td>True</td>\n",
              "      <td>1</td>\n",
              "      <td>0</td>\n",
              "      <td>0.0</td>\n",
              "      <td>0</td>\n",
              "      <td>0.066667</td>\n",
              "    </tr>\n",
              "    <tr>\n",
              "      <th>3</th>\n",
              "      <td>3</td>\n",
              "      <td>/mediawiki/recentchange/1.0.0</td>\n",
              "      <td>{'uri': 'https://www.wikidata.org/wiki/Q350193...</td>\n",
              "      <td>1.556013e+09</td>\n",
              "      <td>edit</td>\n",
              "      <td>0</td>\n",
              "      <td>Q3501934</td>\n",
              "      <td>/* wbsetdescription-add:1|yo */ agbábọ́ọ̀lù ọm...</td>\n",
              "      <td>1633526854</td>\n",
              "      <td>T Cells</td>\n",
              "      <td>NaN</td>\n",
              "      <td>NaN</td>\n",
              "      <td>NaN</td>\n",
              "      <td>NaN</td>\n",
              "      <td>NaN</td>\n",
              "      <td>https://www.wikidata.org</td>\n",
              "      <td>www.wikidata.org</td>\n",
              "      <td>/w</td>\n",
              "      <td>wikidatawiki</td>\n",
              "      <td>‎&lt;span dir=\"auto\"&gt;&lt;span class=\"autocomment\"&gt;Ad...</td>\n",
              "      <td>False</td>\n",
              "      <td>True</td>\n",
              "      <td>{'old': 26326, 'new': 26436}</td>\n",
              "      <td>{'old': 1508596926, 'new': 1508596929}</td>\n",
              "      <td>False</td>\n",
              "      <td>0</td>\n",
              "      <td>0</td>\n",
              "      <td>0.0</td>\n",
              "      <td>0</td>\n",
              "      <td>0.066667</td>\n",
              "    </tr>\n",
              "    <tr>\n",
              "      <th>4</th>\n",
              "      <td>4</td>\n",
              "      <td>/mediawiki/recentchange/1.0.0</td>\n",
              "      <td>{'uri': 'https://www.wikidata.org/wiki/Q384910...</td>\n",
              "      <td>1.556013e+09</td>\n",
              "      <td>edit</td>\n",
              "      <td>0</td>\n",
              "      <td>Q38491095</td>\n",
              "      <td>/* wbeditentity-update-languages-short:0||nl *...</td>\n",
              "      <td>1633526854</td>\n",
              "      <td>Edoderoobot</td>\n",
              "      <td>NaN</td>\n",
              "      <td>NaN</td>\n",
              "      <td>NaN</td>\n",
              "      <td>NaN</td>\n",
              "      <td>NaN</td>\n",
              "      <td>https://www.wikidata.org</td>\n",
              "      <td>www.wikidata.org</td>\n",
              "      <td>/w</td>\n",
              "      <td>wikidatawiki</td>\n",
              "      <td>‎&lt;span dir=\"auto\"&gt;&lt;span class=\"autocomment\"&gt;Ch...</td>\n",
              "      <td>False</td>\n",
              "      <td>True</td>\n",
              "      <td>{'old': 61731, 'new': 61919}</td>\n",
              "      <td>{'old': 1427172934, 'new': 1508596931}</td>\n",
              "      <td>True</td>\n",
              "      <td>1</td>\n",
              "      <td>0</td>\n",
              "      <td>0.0</td>\n",
              "      <td>0</td>\n",
              "      <td>0.066667</td>\n",
              "    </tr>\n",
              "  </tbody>\n",
              "</table>\n",
              "</div>"
            ],
            "text/plain": [
              "   Unnamed: 0  ... uniq_char_ratio_name\n",
              "0           0  ...             0.066667\n",
              "1           1  ...             0.066667\n",
              "2           2  ...             0.066667\n",
              "3           3  ...             0.066667\n",
              "4           4  ...             0.066667\n",
              "\n",
              "[5 rows x 30 columns]"
            ]
          },
          "metadata": {},
          "execution_count": 34
        }
      ]
    },
    {
      "cell_type": "code",
      "metadata": {
        "id": "a778efiwtoZ6"
      },
      "source": [
        "data_2.drop(['Unnamed: 0', '$schema', 'meta', 'id', 'type', 'namespace', 'title',\n",
        "       'comment', 'timestamp', 'log_id', 'log_type', 'log_action',\n",
        "       'log_params', 'log_action_comment', 'server_url', 'server_name',\n",
        "       'server_script_path', 'wiki', 'parsedcomment', 'minor', 'patrolled',\n",
        "       'length', 'revision', 'bot'], axis=1, inplace=True)"
      ],
      "execution_count": 35,
      "outputs": []
    },
    {
      "cell_type": "code",
      "metadata": {
        "colab": {
          "base_uri": "https://localhost:8080/",
          "height": 206
        },
        "id": "YWZawqEQuCbC",
        "outputId": "b9dbaa01-ab24-4158-bb22-cb6bafae7e88"
      },
      "source": [
        "data_2.head()"
      ],
      "execution_count": 36,
      "outputs": [
        {
          "output_type": "execute_result",
          "data": {
            "text/html": [
              "<div>\n",
              "<style scoped>\n",
              "    .dataframe tbody tr th:only-of-type {\n",
              "        vertical-align: middle;\n",
              "    }\n",
              "\n",
              "    .dataframe tbody tr th {\n",
              "        vertical-align: top;\n",
              "    }\n",
              "\n",
              "    .dataframe thead th {\n",
              "        text-align: right;\n",
              "    }\n",
              "</style>\n",
              "<table border=\"1\" class=\"dataframe\">\n",
              "  <thead>\n",
              "    <tr style=\"text-align: right;\">\n",
              "      <th></th>\n",
              "      <th>user</th>\n",
              "      <th>target</th>\n",
              "      <th>n_digits_name</th>\n",
              "      <th>digit_ratio_name</th>\n",
              "      <th>lead_digits_name</th>\n",
              "      <th>uniq_char_ratio_name</th>\n",
              "    </tr>\n",
              "  </thead>\n",
              "  <tbody>\n",
              "    <tr>\n",
              "      <th>0</th>\n",
              "      <td>ST47ProxyBot</td>\n",
              "      <td>1</td>\n",
              "      <td>0</td>\n",
              "      <td>0.0</td>\n",
              "      <td>0</td>\n",
              "      <td>0.066667</td>\n",
              "    </tr>\n",
              "    <tr>\n",
              "      <th>1</th>\n",
              "      <td>Deanlaw</td>\n",
              "      <td>0</td>\n",
              "      <td>0</td>\n",
              "      <td>0.0</td>\n",
              "      <td>0</td>\n",
              "      <td>0.066667</td>\n",
              "    </tr>\n",
              "    <tr>\n",
              "      <th>2</th>\n",
              "      <td>ST47ProxyBot</td>\n",
              "      <td>1</td>\n",
              "      <td>0</td>\n",
              "      <td>0.0</td>\n",
              "      <td>0</td>\n",
              "      <td>0.066667</td>\n",
              "    </tr>\n",
              "    <tr>\n",
              "      <th>3</th>\n",
              "      <td>T Cells</td>\n",
              "      <td>0</td>\n",
              "      <td>0</td>\n",
              "      <td>0.0</td>\n",
              "      <td>0</td>\n",
              "      <td>0.066667</td>\n",
              "    </tr>\n",
              "    <tr>\n",
              "      <th>4</th>\n",
              "      <td>Edoderoobot</td>\n",
              "      <td>1</td>\n",
              "      <td>0</td>\n",
              "      <td>0.0</td>\n",
              "      <td>0</td>\n",
              "      <td>0.066667</td>\n",
              "    </tr>\n",
              "  </tbody>\n",
              "</table>\n",
              "</div>"
            ],
            "text/plain": [
              "           user  target  ...  lead_digits_name  uniq_char_ratio_name\n",
              "0  ST47ProxyBot       1  ...                 0              0.066667\n",
              "1       Deanlaw       0  ...                 0              0.066667\n",
              "2  ST47ProxyBot       1  ...                 0              0.066667\n",
              "3       T Cells       0  ...                 0              0.066667\n",
              "4   Edoderoobot       1  ...                 0              0.066667\n",
              "\n",
              "[5 rows x 6 columns]"
            ]
          },
          "metadata": {},
          "execution_count": 36
        }
      ]
    },
    {
      "cell_type": "code",
      "metadata": {
        "id": "swevdDSxGXZh"
      },
      "source": [
        "test_size = 0.33 #should decide\n",
        "X_train0, X_test0, y_train, y_test = train_test_split(data_2.drop(['target'], axis=1), data_2['target'], test_size=test_size, random_state=8)\n",
        "X_train = X_train0.drop('user', axis=1)\n",
        "X_test = X_test0.drop('user', axis=1)"
      ],
      "execution_count": 72,
      "outputs": []
    },
    {
      "cell_type": "code",
      "metadata": {
        "colab": {
          "base_uri": "https://localhost:8080/",
          "height": 206
        },
        "id": "BW51YdbriozQ",
        "outputId": "bbe51075-d2b0-4f55-a923-6d2dc8698e2d"
      },
      "source": [
        "X_train0.head()"
      ],
      "execution_count": 41,
      "outputs": [
        {
          "output_type": "execute_result",
          "data": {
            "text/html": [
              "<div>\n",
              "<style scoped>\n",
              "    .dataframe tbody tr th:only-of-type {\n",
              "        vertical-align: middle;\n",
              "    }\n",
              "\n",
              "    .dataframe tbody tr th {\n",
              "        vertical-align: top;\n",
              "    }\n",
              "\n",
              "    .dataframe thead th {\n",
              "        text-align: right;\n",
              "    }\n",
              "</style>\n",
              "<table border=\"1\" class=\"dataframe\">\n",
              "  <thead>\n",
              "    <tr style=\"text-align: right;\">\n",
              "      <th></th>\n",
              "      <th>user</th>\n",
              "      <th>n_digits_name</th>\n",
              "      <th>digit_ratio_name</th>\n",
              "      <th>lead_digits_name</th>\n",
              "      <th>uniq_char_ratio_name</th>\n",
              "    </tr>\n",
              "  </thead>\n",
              "  <tbody>\n",
              "    <tr>\n",
              "      <th>23</th>\n",
              "      <td>ST47ProxyBot</td>\n",
              "      <td>0</td>\n",
              "      <td>0.0</td>\n",
              "      <td>0</td>\n",
              "      <td>0.066667</td>\n",
              "    </tr>\n",
              "    <tr>\n",
              "      <th>11</th>\n",
              "      <td>No Great Shaker</td>\n",
              "      <td>0</td>\n",
              "      <td>0.0</td>\n",
              "      <td>0</td>\n",
              "      <td>0.066667</td>\n",
              "    </tr>\n",
              "    <tr>\n",
              "      <th>2</th>\n",
              "      <td>ST47ProxyBot</td>\n",
              "      <td>0</td>\n",
              "      <td>0.0</td>\n",
              "      <td>0</td>\n",
              "      <td>0.066667</td>\n",
              "    </tr>\n",
              "    <tr>\n",
              "      <th>14</th>\n",
              "      <td>T Cells</td>\n",
              "      <td>0</td>\n",
              "      <td>0.0</td>\n",
              "      <td>0</td>\n",
              "      <td>0.066667</td>\n",
              "    </tr>\n",
              "    <tr>\n",
              "      <th>21</th>\n",
              "      <td>RottenBot</td>\n",
              "      <td>0</td>\n",
              "      <td>0.0</td>\n",
              "      <td>0</td>\n",
              "      <td>0.066667</td>\n",
              "    </tr>\n",
              "  </tbody>\n",
              "</table>\n",
              "</div>"
            ],
            "text/plain": [
              "               user  n_digits_name  ...  lead_digits_name  uniq_char_ratio_name\n",
              "23     ST47ProxyBot              0  ...                 0              0.066667\n",
              "11  No Great Shaker              0  ...                 0              0.066667\n",
              "2      ST47ProxyBot              0  ...                 0              0.066667\n",
              "14          T Cells              0  ...                 0              0.066667\n",
              "21        RottenBot              0  ...                 0              0.066667\n",
              "\n",
              "[5 rows x 5 columns]"
            ]
          },
          "metadata": {},
          "execution_count": 41
        }
      ]
    },
    {
      "cell_type": "markdown",
      "metadata": {
        "id": "n63dMF9giyYA"
      },
      "source": [
        "# Classifiers"
      ]
    },
    {
      "cell_type": "markdown",
      "metadata": {
        "id": "ofpcA5PR2ciC"
      },
      "source": [
        "#### RandomForest"
      ]
    },
    {
      "cell_type": "code",
      "metadata": {
        "id": "dF2bTembio4l"
      },
      "source": [
        "from sklearn.ensemble import RandomForestClassifier\n",
        "from sklearn.model_selection import GridSearchCV"
      ],
      "execution_count": 42,
      "outputs": []
    },
    {
      "cell_type": "code",
      "metadata": {
        "id": "6NHa_L3lipNk"
      },
      "source": [
        "model_rf = RandomForestClassifier()\n",
        "\n",
        "params_rf = {\n",
        "    'bootstrap': [True, False],\n",
        "    'max_depth': [10, 20, 30, 40, 50, None],\n",
        "    'max_features': ['auto', 'sqrt'],\n",
        "    'min_samples_leaf': [1, 2, 4],\n",
        "    'min_samples_split': [2, 5, 10],\n",
        "    'n_estimators': [100, 200, 400, 600, 800],\n",
        "    }"
      ],
      "execution_count": 43,
      "outputs": []
    },
    {
      "cell_type": "markdown",
      "metadata": {
        "id": "BbModwjd2g8c"
      },
      "source": [
        "#### XGBoost"
      ]
    },
    {
      "cell_type": "code",
      "metadata": {
        "id": "vn-U-NfdkDhp"
      },
      "source": [
        "import xgboost as xgb"
      ],
      "execution_count": 44,
      "outputs": []
    },
    {
      "cell_type": "code",
      "metadata": {
        "id": "m0QwMxMpipRT"
      },
      "source": [
        "model_xgb = xgb.XGBClassifier()\n",
        "\n",
        "params_xgb = {\n",
        "    'model__max_depth': [2, 3, 5, 7, 10],\n",
        "    'model__n_estimators': [10, 100, 500],\n",
        "}"
      ],
      "execution_count": 45,
      "outputs": []
    },
    {
      "cell_type": "markdown",
      "metadata": {
        "id": "QAez7aBc3Y31"
      },
      "source": [
        "#### Logistic Regression"
      ]
    },
    {
      "cell_type": "code",
      "metadata": {
        "id": "9saEA6JM3X63"
      },
      "source": [
        "from sklearn.linear_model import LogisticRegression"
      ],
      "execution_count": 65,
      "outputs": []
    },
    {
      "cell_type": "code",
      "metadata": {
        "id": "i413vXNFAogy"
      },
      "source": [
        "model = LogisticRegression()\n",
        "\n",
        "params_lr = {\n",
        "    \n",
        "}"
      ],
      "execution_count": null,
      "outputs": []
    },
    {
      "cell_type": "markdown",
      "metadata": {
        "id": "VplkyZdu2ocQ"
      },
      "source": [
        "# GridSearch"
      ]
    },
    {
      "cell_type": "code",
      "metadata": {
        "id": "k9LDgaJq3Wjy"
      },
      "source": [
        "np.random.seed(1111)"
      ],
      "execution_count": 46,
      "outputs": []
    },
    {
      "cell_type": "code",
      "metadata": {
        "id": "nwQcO-xd2sKe"
      },
      "source": [
        "model = model_xgb\n",
        "params_grid = params_xgb"
      ],
      "execution_count": 47,
      "outputs": []
    },
    {
      "cell_type": "code",
      "metadata": {
        "colab": {
          "base_uri": "https://localhost:8080/"
        },
        "id": "WwxEkyMSdgOq",
        "outputId": "ae0d5ac1-be9f-49a9-94f5-9cf0d6ac276e"
      },
      "source": [
        "grid = GridSearchCV(estimator=model, param_grid=params_grid, cv= 5, scoring='accuracy')\n",
        "grid.fit(X_train, y_train)"
      ],
      "execution_count": 48,
      "outputs": [
        {
          "output_type": "execute_result",
          "data": {
            "text/plain": [
              "GridSearchCV(cv=5, error_score=nan,\n",
              "             estimator=XGBClassifier(base_score=0.5, booster='gbtree',\n",
              "                                     colsample_bylevel=1, colsample_bynode=1,\n",
              "                                     colsample_bytree=1, gamma=0,\n",
              "                                     learning_rate=0.1, max_delta_step=0,\n",
              "                                     max_depth=3, min_child_weight=1,\n",
              "                                     missing=None, n_estimators=100, n_jobs=1,\n",
              "                                     nthread=None, objective='binary:logistic',\n",
              "                                     random_state=0, reg_alpha=0, reg_lambda=1,\n",
              "                                     scale_pos_weight=1, seed=None, silent=None,\n",
              "                                     subsample=1, verbosity=1),\n",
              "             iid='deprecated', n_jobs=None,\n",
              "             param_grid={'model__max_depth': [2, 3, 5, 7, 10],\n",
              "                         'model__n_estimators': [10, 100, 500]},\n",
              "             pre_dispatch='2*n_jobs', refit=True, return_train_score=False,\n",
              "             scoring='accuracy', verbose=0)"
            ]
          },
          "metadata": {},
          "execution_count": 48
        }
      ]
    },
    {
      "cell_type": "code",
      "metadata": {
        "colab": {
          "base_uri": "https://localhost:8080/"
        },
        "id": "CmCfXvSVkDe1",
        "outputId": "f339476d-a224-4ab0-83d1-eb3813a4ac4a"
      },
      "source": [
        "grid.best_params_"
      ],
      "execution_count": 49,
      "outputs": [
        {
          "output_type": "execute_result",
          "data": {
            "text/plain": [
              "{'model__max_depth': 2, 'model__n_estimators': 10}"
            ]
          },
          "metadata": {},
          "execution_count": 49
        }
      ]
    },
    {
      "cell_type": "code",
      "metadata": {
        "id": "vgaAj6I74DRh"
      },
      "source": [
        "y_pred = grid.best_estimator_.predict(X_test)"
      ],
      "execution_count": 50,
      "outputs": []
    },
    {
      "cell_type": "code",
      "metadata": {
        "colab": {
          "base_uri": "https://localhost:8080/"
        },
        "id": "CwE34vn46VWo",
        "outputId": "54bf4054-a1c7-44b1-ad32-ec56c0594ada"
      },
      "source": [
        "y_pred"
      ],
      "execution_count": 51,
      "outputs": [
        {
          "output_type": "execute_result",
          "data": {
            "text/plain": [
              "array([0, 0, 0, 0, 0, 0, 0, 0, 0, 0])"
            ]
          },
          "metadata": {},
          "execution_count": 51
        }
      ]
    },
    {
      "cell_type": "code",
      "metadata": {
        "colab": {
          "base_uri": "https://localhost:8080/"
        },
        "id": "juze91mC6XX_",
        "outputId": "f3ee9001-1bf1-4afe-f765-d510187ee0b0"
      },
      "source": [
        "y_test"
      ],
      "execution_count": 52,
      "outputs": [
        {
          "output_type": "execute_result",
          "data": {
            "text/plain": [
              "25    0\n",
              "0     1\n",
              "7     0\n",
              "18    1\n",
              "15    1\n",
              "4     1\n",
              "29    0\n",
              "1     0\n",
              "22    0\n",
              "6     1\n",
              "Name: target, dtype: int64"
            ]
          },
          "metadata": {},
          "execution_count": 52
        }
      ]
    },
    {
      "cell_type": "code",
      "metadata": {
        "id": "9VEUw4kM4Jtd"
      },
      "source": [
        "from sklearn.metrics import accuracy_score, precision_score, recall_score"
      ],
      "execution_count": 53,
      "outputs": []
    },
    {
      "cell_type": "code",
      "metadata": {
        "colab": {
          "base_uri": "https://localhost:8080/"
        },
        "id": "-vNIzwDq4dLS",
        "outputId": "b64269aa-a488-4bf1-89cd-d43b9ae3b4c8"
      },
      "source": [
        "print(f\"Accuracy: {accuracy_score(y_test, y_pred)}\")\n",
        "print(f\"Precision: {precision_score(y_test, y_pred)}\")\n",
        "print(f\"Recall: {recall_score(y_test, y_pred)}\")"
      ],
      "execution_count": 43,
      "outputs": [
        {
          "output_type": "stream",
          "name": "stdout",
          "text": [
            "Accuracy: 0.5\n",
            "Precision: 0.0\n",
            "Recall: 0.0\n"
          ]
        },
        {
          "output_type": "stream",
          "name": "stderr",
          "text": [
            "/usr/local/lib/python3.7/dist-packages/sklearn/metrics/_classification.py:1272: UndefinedMetricWarning: Precision is ill-defined and being set to 0.0 due to no predicted samples. Use `zero_division` parameter to control this behavior.\n",
            "  _warn_prf(average, modifier, msg_start, len(result))\n"
          ]
        }
      ]
    },
    {
      "cell_type": "markdown",
      "metadata": {
        "id": "NSG-fawQjM7A"
      },
      "source": [
        "# Getting bad emails/names/whatever"
      ]
    },
    {
      "cell_type": "code",
      "metadata": {
        "id": "yn4ZCUOwDht9"
      },
      "source": [
        "bot_idx = [i for i, e in enumerate(y_test) if e != 0]"
      ],
      "execution_count": 56,
      "outputs": []
    },
    {
      "cell_type": "code",
      "metadata": {
        "colab": {
          "base_uri": "https://localhost:8080/"
        },
        "id": "WSGv_TCMDrB7",
        "outputId": "5b1c3803-a41c-4a9c-ebac-cd2e33a8dc26"
      },
      "source": [
        "bot_idx"
      ],
      "execution_count": 58,
      "outputs": [
        {
          "output_type": "execute_result",
          "data": {
            "text/plain": [
              "[1, 3, 4, 5, 9]"
            ]
          },
          "metadata": {},
          "execution_count": 58
        }
      ]
    },
    {
      "cell_type": "code",
      "metadata": {
        "id": "ObIij91kEUXX"
      },
      "source": [
        "X_test_user = pd.DataFrame(X_test0['user']).reset_index().drop('index', axis=1)"
      ],
      "execution_count": 76,
      "outputs": []
    },
    {
      "cell_type": "code",
      "metadata": {
        "colab": {
          "base_uri": "https://localhost:8080/",
          "height": 363
        },
        "id": "cCSyuhEljO2z",
        "outputId": "54077f6f-8cb7-4ec1-b6b3-afd699e08f6a"
      },
      "source": [
        "X_test_user"
      ],
      "execution_count": 80,
      "outputs": [
        {
          "output_type": "execute_result",
          "data": {
            "text/html": [
              "<div>\n",
              "<style scoped>\n",
              "    .dataframe tbody tr th:only-of-type {\n",
              "        vertical-align: middle;\n",
              "    }\n",
              "\n",
              "    .dataframe tbody tr th {\n",
              "        vertical-align: top;\n",
              "    }\n",
              "\n",
              "    .dataframe thead th {\n",
              "        text-align: right;\n",
              "    }\n",
              "</style>\n",
              "<table border=\"1\" class=\"dataframe\">\n",
              "  <thead>\n",
              "    <tr style=\"text-align: right;\">\n",
              "      <th></th>\n",
              "      <th>user</th>\n",
              "    </tr>\n",
              "  </thead>\n",
              "  <tbody>\n",
              "    <tr>\n",
              "      <th>0</th>\n",
              "      <td>T Cells</td>\n",
              "    </tr>\n",
              "    <tr>\n",
              "      <th>1</th>\n",
              "      <td>ST47ProxyBot</td>\n",
              "    </tr>\n",
              "    <tr>\n",
              "      <th>2</th>\n",
              "      <td>Repf72</td>\n",
              "    </tr>\n",
              "    <tr>\n",
              "      <th>3</th>\n",
              "      <td>SchlurcherBot</td>\n",
              "    </tr>\n",
              "    <tr>\n",
              "      <th>4</th>\n",
              "      <td>ST47ProxyBot</td>\n",
              "    </tr>\n",
              "    <tr>\n",
              "      <th>5</th>\n",
              "      <td>Edoderoobot</td>\n",
              "    </tr>\n",
              "    <tr>\n",
              "      <th>6</th>\n",
              "      <td>WindEwriX</td>\n",
              "    </tr>\n",
              "    <tr>\n",
              "      <th>7</th>\n",
              "      <td>Deanlaw</td>\n",
              "    </tr>\n",
              "    <tr>\n",
              "      <th>8</th>\n",
              "      <td>SomeRandomPasserby</td>\n",
              "    </tr>\n",
              "    <tr>\n",
              "      <th>9</th>\n",
              "      <td>Soweego bot</td>\n",
              "    </tr>\n",
              "  </tbody>\n",
              "</table>\n",
              "</div>"
            ],
            "text/plain": [
              "                 user\n",
              "0             T Cells\n",
              "1        ST47ProxyBot\n",
              "2              Repf72\n",
              "3       SchlurcherBot\n",
              "4        ST47ProxyBot\n",
              "5         Edoderoobot\n",
              "6           WindEwriX\n",
              "7             Deanlaw\n",
              "8  SomeRandomPasserby\n",
              "9         Soweego bot"
            ]
          },
          "metadata": {},
          "execution_count": 80
        }
      ]
    },
    {
      "cell_type": "code",
      "metadata": {
        "colab": {
          "base_uri": "https://localhost:8080/",
          "height": 206
        },
        "id": "KV04DItBjPO5",
        "outputId": "251d0953-db6a-4e30-e1d4-c88781d04088"
      },
      "source": [
        "X_test_user.loc[bot_idx]"
      ],
      "execution_count": 79,
      "outputs": [
        {
          "output_type": "execute_result",
          "data": {
            "text/html": [
              "<div>\n",
              "<style scoped>\n",
              "    .dataframe tbody tr th:only-of-type {\n",
              "        vertical-align: middle;\n",
              "    }\n",
              "\n",
              "    .dataframe tbody tr th {\n",
              "        vertical-align: top;\n",
              "    }\n",
              "\n",
              "    .dataframe thead th {\n",
              "        text-align: right;\n",
              "    }\n",
              "</style>\n",
              "<table border=\"1\" class=\"dataframe\">\n",
              "  <thead>\n",
              "    <tr style=\"text-align: right;\">\n",
              "      <th></th>\n",
              "      <th>user</th>\n",
              "    </tr>\n",
              "  </thead>\n",
              "  <tbody>\n",
              "    <tr>\n",
              "      <th>1</th>\n",
              "      <td>ST47ProxyBot</td>\n",
              "    </tr>\n",
              "    <tr>\n",
              "      <th>3</th>\n",
              "      <td>SchlurcherBot</td>\n",
              "    </tr>\n",
              "    <tr>\n",
              "      <th>4</th>\n",
              "      <td>ST47ProxyBot</td>\n",
              "    </tr>\n",
              "    <tr>\n",
              "      <th>5</th>\n",
              "      <td>Edoderoobot</td>\n",
              "    </tr>\n",
              "    <tr>\n",
              "      <th>9</th>\n",
              "      <td>Soweego bot</td>\n",
              "    </tr>\n",
              "  </tbody>\n",
              "</table>\n",
              "</div>"
            ],
            "text/plain": [
              "            user\n",
              "1   ST47ProxyBot\n",
              "3  SchlurcherBot\n",
              "4   ST47ProxyBot\n",
              "5    Edoderoobot\n",
              "9    Soweego bot"
            ]
          },
          "metadata": {},
          "execution_count": 79
        }
      ]
    },
    {
      "cell_type": "code",
      "metadata": {
        "id": "LUn5INSxjPR4"
      },
      "source": [
        ""
      ],
      "execution_count": null,
      "outputs": []
    },
    {
      "cell_type": "code",
      "metadata": {
        "id": "lp8Sd9tejPVX"
      },
      "source": [
        ""
      ],
      "execution_count": null,
      "outputs": []
    }
  ]
}