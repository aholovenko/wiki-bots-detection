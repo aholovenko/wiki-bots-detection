{
 "cells": [
  {
   "cell_type": "code",
   "execution_count": 50,
   "id": "553617ff",
   "metadata": {},
   "outputs": [],
   "source": [
    "import json\n",
    "import os\n",
    "import time\n",
    "from random import shuffle\n",
    "from sseclient import SSEClient as EventSource"
   ]
  },
  {
   "cell_type": "code",
   "execution_count": 47,
   "id": "98819e2e",
   "metadata": {},
   "outputs": [],
   "source": [
    "def generate_wiki_changes_dataset(maxEvents=5000):\n",
    "    print('Will generate records for wiki changes dataset ...')\n",
    "    url = 'https://stream.wikimedia.org/v2/stream/recentchange'\n",
    "    counter = 0 \n",
    "    data = []\n",
    "    t1 = time.time()\n",
    "\n",
    "    for event in EventSource(url):\n",
    "        if event.event == 'message':\n",
    "            try:\n",
    "                change = json.loads(event.data)\n",
    "            except ValueError:\n",
    "                continue\n",
    "                \n",
    "            counter += 1 \n",
    "            if counter > maxEvents:\n",
    "                break\n",
    "            \n",
    "            data.append(change)\n",
    "\n",
    "    t2 = time.time()\n",
    "    print(f'Took {(t2-t1)//60} mins to generate {maxEvents} records.')\n",
    "    return data\n",
    "\n",
    "def generate_or_load_black_list(force=False, dataset=None, n=100):\n",
    "    black_list = None\n",
    "    black_list_temp_file = 'black_list_temp.json'\n",
    "\n",
    "    if not os.path.exists(black_list_temp_file) or force:\n",
    "        dataset = dataset.copy() or generate_wiki_changes_dataset(n)\n",
    "        black_list = list(set([c['user'] for c in dataset if c['bot']]))\n",
    "        with open(black_list_temp_file, 'w') as output_file:\n",
    "            output_file.write(json.dumps(black_list))\n",
    "    else:\n",
    "        print('File exists, loading...')\n",
    "        with open(black_list_temp_file) as input_file:\n",
    "            black_list = json.load(input_file)\n",
    "    return black_list"
   ]
  },
  {
   "cell_type": "code",
   "execution_count": 52,
   "id": "a06cc928",
   "metadata": {},
   "outputs": [],
   "source": [
    "# dataset = generate_wiki_changes_dataset()\n",
    "black_list = generate_or_load_black_list(force=True, dataset=dataset)"
   ]
  },
  {
   "cell_type": "code",
   "execution_count": 53,
   "id": "d5a68e26",
   "metadata": {},
   "outputs": [
    {
     "data": {
      "text/plain": [
       "{'$schema': '/mediawiki/recentchange/1.0.0',\n",
       " 'meta': {'uri': 'https://ceb.wikipedia.org/wiki/Kategoriya:Abungawg-uhong',\n",
       "  'request_id': 'e444560e-95da-4be4-901d-29cfc9d26dea',\n",
       "  'id': 'ab536fa3-5820-4e8e-88ae-3f2c7715ec8c',\n",
       "  'dt': '2021-10-05T18:20:56Z',\n",
       "  'domain': 'ceb.wikipedia.org',\n",
       "  'stream': 'mediawiki.recentchange',\n",
       "  'topic': 'eqiad.mediawiki.recentchange',\n",
       "  'partition': 0,\n",
       "  'offset': 3346060393},\n",
       " 'id': 109444152,\n",
       " 'type': 'categorize',\n",
       " 'namespace': 14,\n",
       " 'title': 'Kategoriya:Abungawg-uhong',\n",
       " 'comment': '[[:Septoria exotica]] added to category',\n",
       " 'timestamp': 1633458056,\n",
       " 'user': 'Lsjbot',\n",
       " 'bot': True,\n",
       " 'server_url': 'https://ceb.wikipedia.org',\n",
       " 'server_name': 'ceb.wikipedia.org',\n",
       " 'server_script_path': '/w',\n",
       " 'wiki': 'cebwiki',\n",
       " 'parsedcomment': '<a href=\"/wiki/Septoria_exotica\" title=\"Septoria exotica\">Septoria exotica</a> added to category'}"
      ]
     },
     "execution_count": 53,
     "metadata": {},
     "output_type": "execute_result"
    }
   ],
   "source": [
    "dataset[0]"
   ]
  },
  {
   "cell_type": "code",
   "execution_count": 54,
   "id": "f418dc1d",
   "metadata": {},
   "outputs": [
    {
     "data": {
      "text/plain": [
       "(5001, 43)"
      ]
     },
     "execution_count": 54,
     "metadata": {},
     "output_type": "execute_result"
    }
   ],
   "source": [
    "len(dataset), len(black_list)"
   ]
  },
  {
   "cell_type": "code",
   "execution_count": 55,
   "id": "bc21ad7c",
   "metadata": {},
   "outputs": [
    {
     "data": {
      "text/plain": [
       "['Dexbot',\n",
       " '*Treker',\n",
       " 'GeographBot',\n",
       " 'Citation bot',\n",
       " 'BjornNbot',\n",
       " 'SDZeroBot',\n",
       " 'Edoderoobot',\n",
       " 'DeltaBot',\n",
       " 'DerbethBot',\n",
       " 'RobokoBot']"
      ]
     },
     "execution_count": 55,
     "metadata": {},
     "output_type": "execute_result"
    }
   ],
   "source": [
    "black_list[:10]"
   ]
  },
  {
   "cell_type": "code",
   "execution_count": 58,
   "id": "9e0ce916",
   "metadata": {},
   "outputs": [
    {
     "data": {
      "text/plain": [
       "(206, 3)"
      ]
     },
     "execution_count": 58,
     "metadata": {},
     "output_type": "execute_result"
    }
   ],
   "source": [
    "from bloom_filter import BloomFilter\n",
    "from random import shuffle\n",
    " \n",
    "n = len(black_list)  # no of items to add\n",
    "p = 0.1  # false positive probability\n",
    " \n",
    "bloom_filter = BloomFilter(n, p)\n",
    "\n",
    "for item in black_list:\n",
    "    bloom_filter.add(item)\n",
    "\n",
    "bloom_filter.size, bloom_filter.hash_count"
   ]
  },
  {
   "cell_type": "code",
   "execution_count": 66,
   "id": "1965c007",
   "metadata": {},
   "outputs": [
    {
     "data": {
      "text/plain": [
       "['Dexbot',\n",
       " '*Treker',\n",
       " 'GeographBot',\n",
       " 'Citation bot',\n",
       " 'BjornNbot',\n",
       " 'SDZeroBot',\n",
       " 'Edoderoobot',\n",
       " 'DeltaBot',\n",
       " 'DerbethBot',\n",
       " 'RobokoBot']"
      ]
     },
     "execution_count": 66,
     "metadata": {},
     "output_type": "execute_result"
    }
   ],
   "source": [
    "white_list = list(set([c['user'] for c in dataset[:20] if not c['bot']]))\n",
    "test_words = black_list[:10] + white_list\n",
    "shuffle(test_words)\n",
    "black_list[:10]"
   ]
  },
  {
   "cell_type": "code",
   "execution_count": 69,
   "id": "6f4c97eb",
   "metadata": {},
   "outputs": [
    {
     "name": "stdout",
     "output_type": "stream",
     "text": [
      "- 'Joshua06' is definitely NOT present!\n",
      "- 'Rwzi' is definitely NOT present!\n",
      "+ 'DerbethBot' is probably present!\n",
      "+ 'SDZeroBot' is probably present!\n",
      "- 'Slava Sahakyan70' is definitely NOT present!\n",
      "+ 'GeographBot' is probably present!\n",
      "+ 'Dexbot' is probably present!\n",
      "- 'Ixfd64' is definitely NOT present!\n",
      "+ '*Treker' is probably present!\n",
      "- 'GrawLIN' is definitely NOT present!\n",
      "- 'RoBri' is definitely NOT present!\n",
      "+ 'DeltaBot' is probably present!\n",
      "- 'Ukulelevillain' is definitely NOT present!\n",
      "+ 'Citation bot' is probably present!\n",
      "- 'Lombroso' is definitely NOT present!\n",
      "+ 'BjornNbot' is probably present!\n",
      "+ 'Edoderoobot' is probably present!\n",
      "- 'Steenth' is definitely NOT present!\n",
      "- 'Skim' is definitely NOT present!\n",
      "+ 'RobokoBot' is probably present!\n"
     ]
    }
   ],
   "source": [
    "for word in test_words:\n",
    "    if bloom_filter.check(word):\n",
    "        if word in black_list:\n",
    "            print(f\"+ '{word}' is probably present!\")\n",
    "        else:\n",
    "            print(f\"? '{word}' is a false positive!\")\n",
    "    else:\n",
    "        print(f\"- '{word}' is definitely NOT present!\")"
   ]
  },
  {
   "cell_type": "code",
   "execution_count": null,
   "id": "35e5a66d",
   "metadata": {},
   "outputs": [],
   "source": []
  }
 ],
 "metadata": {
  "kernelspec": {
   "display_name": "Python 3 (ipykernel)",
   "language": "python",
   "name": "python3"
  },
  "language_info": {
   "codemirror_mode": {
    "name": "ipython",
    "version": 3
   },
   "file_extension": ".py",
   "mimetype": "text/x-python",
   "name": "python",
   "nbconvert_exporter": "python",
   "pygments_lexer": "ipython3",
   "version": "3.8.10"
  }
 },
 "nbformat": 4,
 "nbformat_minor": 5
}
